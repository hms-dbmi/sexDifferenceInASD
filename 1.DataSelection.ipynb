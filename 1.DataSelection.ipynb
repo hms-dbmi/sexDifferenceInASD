{
 "cells": [
  {
   "cell_type": "markdown",
   "metadata": {},
   "source": [
    "# Sex differences in Autism Spectrum Disorder, a Comorbidity Pattern Analysis in National Scale Data: (i)data selection\n",
    "\n",
    "## Load the R libraries"
   ]
  },
  {
   "cell_type": "code",
   "execution_count": null,
   "metadata": {
    "collapsed": true
   },
   "outputs": [],
   "source": [
    "library(\"devtools\")\n",
    "library(\"SqlServerJtds\")\n",
    "library(\"SqlTools\")\n",
    "library(\"FactToCube\")"
   ]
  },
  {
   "cell_type": "markdown",
   "metadata": {},
   "source": [
    "## Set up the connection the the DB server"
   ]
  },
  {
   "cell_type": "code",
   "execution_count": null,
   "metadata": {
    "collapsed": true
   },
   "outputs": [],
   "source": [
    "cn = connect.sql.server(\n",
    "    database=\"XXXX\",\n",
    "    domain=\"YYYY\",\n",
    "    server.address=\"ZZZZ\",\n",
    "    user= yourUserName,\n",
    "    password= yourPassword)\n",
    "cn"
   ]
  },
  {
   "cell_type": "markdown",
   "metadata": {},
   "source": [
    "\n",
    "## Mapping table: PheWAS to ICD9-CM code\n",
    "We create a data.frame with ICD9, the equivalent PheCode based on (https://phewascatalog.org/, version 1.2)and if it is sex specific or not (https://phewascatalog.org/files/). Once the data.frame has been created we save this data.frame as a table in our sql database. This will allow us to map and to remove potential patient with diagnostic errors due to sex specific phenotypes.  "
   ]
  },
  {
   "cell_type": "code",
   "execution_count": null,
   "metadata": {
    "collapsed": true
   },
   "outputs": [],
   "source": [
    "icd9tophewas <- read.delim(\"phecode_icd9_rolled.csv\", \n",
    "                           colClasses = \"character\",\n",
    "                           sep=\",\", \n",
    "                           header=TRUE)\n",
    "\n",
    "icd9tophewas <- icd9tophewas[, c(1:4)]\n",
    "colnames(icd9tophewas)[2] <- \"ICD9description\"\n",
    "\n",
    "icd9sexrelated <- read.delim(\"phecode_definitions1.2.csv\", \n",
    "                           colClasses = \"character\",\n",
    "                           sep=\",\", \n",
    "                           header=TRUE)\n",
    "icd9sexrelated <- icd9sexrelated[,c(\"jd_code\", \"sex\")]\n",
    "colnames(icd9sexrelated) <- c(\"PheCode\", \"Sex\")\n",
    "\n",
    "mymappingtable <- merge( icd9tophewas, icd9sexrelated, by=\"PheCode\")\n",
    "\n",
    "dbWriteTable( cn, \"icd9tophewas\", mymappingtable, row.names = FALSE)"
   ]
  },
  {
   "cell_type": "markdown",
   "metadata": {},
   "source": [
    "## ASD patient selection \n",
    "\n",
    "Create a temporal table with the Autism Spectrum Disorder ICD9-CM codes."
   ]
  },
  {
   "cell_type": "code",
   "execution_count": null,
   "metadata": {
    "collapsed": true
   },
   "outputs": [],
   "source": [
    "dbGetQuery(cn,  \"\n",
    "           SELECT\n",
    "            * INTO #tmpAsdIcdCodes\n",
    "           FROM\n",
    "           PheWAS.dbo.Icd9CodeTranslation F WHERE\n",
    "             F.Icd9Code = '299.0' OR F.Icd9Code  = '299.00' OR F.Icd9Code  = '299.01' OR F.Icd9Code  = '299.8' OR \n",
    "             F.Icd9Code  = '299.80' OR F.Icd9Code  = '299.81' OR F.Icd9Code  = '299.9' OR F.Icd9Code  = '299.90' OR\n",
    "             F.Icd9Code  = '299.91'\")"
   ]
  },
  {
   "cell_type": "markdown",
   "metadata": {},
   "source": [
    "Select those patients diagnosed with ASD from 0 to 18 years old."
   ]
  },
  {
   "cell_type": "code",
   "execution_count": null,
   "metadata": {
    "collapsed": true
   },
   "outputs": [],
   "source": [
    "dbSendUpdate(cn, \"\n",
    "             SELECT F.MemberId, F.Icd, F.DateServiceStarted, M.Gender, M.BirthYear, \n",
    "             (YEAR( F.DateServiceStarted ) - M.BirthYear) AS Age\n",
    "             INTO #tmpAsdIcd\n",
    "             FROM FactIcd F\n",
    "             INNER JOIN Members M ON\n",
    "             F.MemberId=M.MemberId\n",
    "             WHERE\n",
    "             F.Icd IN (SELECT Icd9Code FROM #tmpAsdIcdCodes)\n",
    "             AND \n",
    "             (YEAR( F.DateServiceStarted ) - M.BirthYear) <= 18\n",
    "             AND \n",
    "             (YEAR( F.DateServiceStarted ) - M.BirthYear) >= 0\n",
    "             AND IcdVersion = '9'\" \n",
    ")"
   ]
  },
  {
   "cell_type": "markdown",
   "metadata": {},
   "source": [
    "Select only those patients that have been diagnosed at least 3 times with a ASD ICD9-CM code."
   ]
  },
  {
   "cell_type": "code",
   "execution_count": null,
   "metadata": {
    "collapsed": true
   },
   "outputs": [],
   "source": [
    "dbSendUpdate(cn, \"\n",
    "             SELECT\n",
    "             T.MemberId, COUNT (T.Icd ) AS icdCounts\n",
    "             INTO #AsdIcdCounts\n",
    "             FROM\n",
    "             #tmpAsdIcd T\n",
    "             GROUP BY MemberId \n",
    "             HAVING COUNT (T.Icd ) >= 3\" \n",
    ")"
   ]
  },
  {
   "cell_type": "markdown",
   "metadata": {},
   "source": [
    "From those, select those with a coverage of 12 months between 0 to 18 years old, and only those from where we also know gender for sure."
   ]
  },
  {
   "cell_type": "code",
   "execution_count": null,
   "metadata": {
    "collapsed": true
   },
   "outputs": [],
   "source": [
    "dbSendUpdate(cn, \"\n",
    "             SELECT\n",
    "             E.MemberId, COUNT(DISTINCT E.EffectiveDate) AS nMonthsObservation\n",
    "             INTO ag440.dbo.ASD3_count\n",
    "             FROM\n",
    "             Enrollment E\n",
    "             INNER JOIN Members M ON\n",
    "             E.MemberId=M.MemberId\n",
    "             INNER JOIN #AsdIcdCounts C ON\n",
    "             M.MemberId=C.MemberId\n",
    "             WHERE\n",
    "             E.MedicalIndicator = 'Y'\n",
    "             AND (YEAR(E.EffectiveDate) - M.BirthYear) <= 18\n",
    "             AND (YEAR(E.EffectiveDate) - M.BirthYear) >= 0\n",
    "             AND (M.Gender = 'F' OR M.Gender = 'M') \n",
    "             GROUP BY E.MemberId\n",
    "             HAVING COUNT( DISTINCT E.EffectiveDate) >=12 \" \n",
    ")"
   ]
  },
  {
   "cell_type": "markdown",
   "metadata": {},
   "source": [
    "We generate two different and separate tables, one with the females and the other with males. "
   ]
  },
  {
   "cell_type": "code",
   "execution_count": null,
   "metadata": {
    "collapsed": true
   },
   "outputs": [],
   "source": [
    "#females, ASD 3 times, from 0 to 18 years old, and coverage of at least 12 months\n",
    "dbSendUpdate(cn, \"\n",
    "             SELECT\n",
    "             E.MemberId, COUNT(DISTINCT E.EffectiveDate) AS nMonthsObservation\n",
    "             INTO ag440.dbo.ASDfemales_count\n",
    "             FROM\n",
    "             Enrollment E\n",
    "             INNER JOIN Members M ON\n",
    "             E.MemberId=M.MemberId\n",
    "             INNER JOIN #AsdIcdCounts C ON\n",
    "             M.MemberId=C.MemberId\n",
    "             WHERE\n",
    "             E.MedicalIndicator = 'Y'\n",
    "             AND (YEAR(E.EffectiveDate) - M.BirthYear) <= 18\n",
    "             AND (YEAR(E.EffectiveDate) - M.BirthYear) >= 0\n",
    "             AND (M.Gender = 'F') \n",
    "             GROUP BY E.MemberId\n",
    "             HAVING COUNT( DISTINCT E.EffectiveDate) >=12 \" \n",
    ")\n",
    "\n",
    "#males, ASD 3 times, from 0 to 18 years old, and coverage of at least 12 months\n",
    "dbSendUpdate(cn, \"\n",
    "             SELECT\n",
    "             E.MemberId, COUNT(DISTINCT E.EffectiveDate) AS nMonthsObservation\n",
    "             INTO ag440.dbo.ASDmales_count\n",
    "             FROM\n",
    "             Enrollment E\n",
    "             INNER JOIN Members M ON\n",
    "             E.MemberId=M.MemberId\n",
    "             INNER JOIN #AsdIcdCounts C ON\n",
    "             M.MemberId=C.MemberId\n",
    "             WHERE\n",
    "             E.MedicalIndicator = 'Y'\n",
    "             AND (YEAR(E.EffectiveDate) - M.BirthYear) <= 18\n",
    "             AND (YEAR(E.EffectiveDate) - M.BirthYear) >= 0\n",
    "             AND (M.Gender = 'M') \n",
    "             GROUP BY E.MemberId\n",
    "             HAVING COUNT( DISTINCT E.EffectiveDate) >=12 \" \n",
    ")"
   ]
  },
  {
   "cell_type": "markdown",
   "metadata": {},
   "source": [
    "## Control patient data selection\n",
    "\n",
    "First we need a table with all patients in the db with 1 ASD code for exclusion (we already create it, \"tmpAsdIcd\").\n",
    "Then we generate a table with all the patients with 12 months of coverage between 0 to 18 years old"
   ]
  },
  {
   "cell_type": "code",
   "execution_count": null,
   "metadata": {
    "collapsed": true
   },
   "outputs": [],
   "source": [
    "dbSendUpdate(cn, \"SELECT\n",
    "             E.MemberId, datediff(month, min(E.EffectiveDate), max(E.EffectiveDate)) AS months\n",
    "             INTO #tmpMemberCount\n",
    "             FROM\n",
    "             Enrollment E\n",
    "             INNER JOIN Members M ON\n",
    "             E.MemberId=M.MemberId\n",
    "             WHERE\n",
    "             E.MedicalIndicator = 'Y'\n",
    "             AND (YEAR(E.EffectiveDate) - M.BirthYear) <= 18\n",
    "             AND (YEAR(E.EffectiveDate) - M.BirthYear) >= 0\n",
    "             AND (M.Gender = 'M' OR M.Gender = 'F') \n",
    "             GROUP BY E.MemberId\n",
    "             HAVING  COUNT ( DISTINCT E.EffectiveDate ) > 12\"\n",
    ")"
   ]
  },
  {
   "cell_type": "markdown",
   "metadata": {},
   "source": [
    "We remove those patients diagnosed with ASD at some point"
   ]
  },
  {
   "cell_type": "code",
   "execution_count": null,
   "metadata": {
    "collapsed": true
   },
   "outputs": [],
   "source": [
    "dbSendUpdate( cn, \"SELECT * \n",
    "                   INTO #tmNonASDMemberCount \n",
    "                   FROM #tmpMemberCount \n",
    "                   WHERE MemberId NOT IN (SELECT MemberId FROM #tmpAsdIcd)\" \n",
    ")"
   ]
  },
  {
   "cell_type": "markdown",
   "metadata": {},
   "source": [
    "For those patients, we sleect the id and the gender and save it on a table.\n",
    "We then generate two separate tables, one for females and another one for males. "
   ]
  },
  {
   "cell_type": "code",
   "execution_count": null,
   "metadata": {
    "collapsed": true
   },
   "outputs": [],
   "source": [
    "dbSendUpdate( cn, \"SELECT M.MemberId, M.Gender, E.ZipCode\n",
    "                    INTO #allNonASD\n",
    "                    FROM Members M\n",
    "                    INNER JOIN #tmNonASDMemberCount T ON\n",
    "                    M.MemberId=T.MemberId\n",
    "                    INNER JOIN Enrollment E ON\n",
    "                    E.MemberId=M.MemberId\" \n",
    ")\n",
    "\n",
    "#Create non-ASD female control group filter\n",
    "dbSendUpdate( cn, \"SELECT MemberId \n",
    "                    INTO ag440.dbo.nonASDfemales_count \n",
    "                    FROM #allNonASD \n",
    "                    WHERE Gender = 'F'\"\n",
    ")\n",
    "\n",
    "#Create non-ASD male control group filter\n",
    "dbSendUpdate( cn, \"SELECT MemberId \n",
    "                    INTO ag440.dbo.nonASDmales_count \n",
    "                    FROM #allNonASD \n",
    "                    WHERE Gender = 'M'\"\n",
    ")"
   ]
  },
  {
   "cell_type": "markdown",
   "metadata": {},
   "source": [
    "## Prepare data for the analysis\n",
    "\n",
    "### ASD females from 0 to 2 years old"
   ]
  },
  {
   "cell_type": "code",
   "execution_count": null,
   "metadata": {
    "collapsed": true
   },
   "outputs": [],
   "source": [
    "dbSendUpdate( cn, \"SELECT\n",
    "             F.MemberId, F.Icd,\n",
    "             M.BirthYear,F.DateServiceStarted,\n",
    "             YEAR(F.DateServiceStarted) - M.BirthYear AS Age\n",
    "             INTO #tmpAsdFemIcd\n",
    "             FROM\n",
    "             FactIcd F\n",
    "             INNER JOIN Members M ON\n",
    "             F.MemberId=M.MemberId\n",
    "             INNER JOIN ag440.dbo.ASDfemales_count T ON\n",
    "             M.MemberId=T.MemberId\n",
    "             WHERE\n",
    "             IcdVersion = '9'\")"
   ]
  },
  {
   "cell_type": "markdown",
   "metadata": {},
   "source": [
    "Remove patients with diagnostic errores, females diagnosed with ICD9-CM codes that are male specific. "
   ]
  },
  {
   "cell_type": "code",
   "execution_count": null,
   "metadata": {
    "collapsed": true
   },
   "outputs": [],
   "source": [
    "dbSendUpdate( cn, \"SELECT MemberId \n",
    "                    INTO #tmptest \n",
    "                    FROM #tmpAsdFemIcd \n",
    "                    WHERE Icd \n",
    "                    IN (SELECT ICD9 \n",
    "                        FROM ag440.dbo.icd9tophewas\n",
    "                        WHERE Sex = 'Male') \"\n",
    ")"
   ]
  },
  {
   "cell_type": "code",
   "execution_count": null,
   "metadata": {
    "collapsed": true
   },
   "outputs": [],
   "source": [
    "dbSendUpdate( cn, \"SELECT * \n",
    "                    INTO ag440.dbo.ASDfemalesICD \n",
    "                    FROM #tmpAsdFemIcd \n",
    "                    WHERE MemberId \n",
    "                    NOT IN (SELECT DISTINCT( MemberId )  \n",
    "                            FROM #tmptest)\n",
    "\")"
   ]
  },
  {
   "cell_type": "markdown",
   "metadata": {},
   "source": [
    "Filter by age, for example, diagnostic done from 0 to 2 years old. "
   ]
  },
  {
   "cell_type": "code",
   "execution_count": null,
   "metadata": {
    "collapsed": true
   },
   "outputs": [],
   "source": [
    "dbSendUpdate( cn, \"SELECT * \n",
    "                    INTO #tmpFemalesASD0to2 \n",
    "                    FROM #tmpAsdFemIcdNoError \n",
    "                    WHERE Age >= 0 AND Age <= 2 \n",
    "\")"
   ]
  },
  {
   "cell_type": "markdown",
   "metadata": {},
   "source": [
    "Map the ICD9-CM codes to PheWAS code"
   ]
  },
  {
   "cell_type": "code",
   "execution_count": null,
   "metadata": {
    "collapsed": true
   },
   "outputs": [],
   "source": [
    "dbSendUpdate( cn, \"SELECT A.MemberId, A.BirthYear, A.DateServiceStarted, A.Age, A.Icd, B.PheCode\n",
    "                    INTO #tmpFemalesASD0to2PheWAS\n",
    "                    FROM #tmpFemalesASD0to2 A \n",
    "                    INNER JOIN ag440.dbo.icd9tophewas B ON\n",
    "                    A.Icd = B.ICD9\"\n",
    ")"
   ]
  },
  {
   "cell_type": "markdown",
   "metadata": {},
   "source": [
    "Add the counts"
   ]
  },
  {
   "cell_type": "code",
   "execution_count": null,
   "metadata": {
    "collapsed": true
   },
   "outputs": [],
   "source": [
    "dbSendUpdate( cn, \"SELECT T.MemberId, T.PheCode, COUNT(T.PheCode) AS Count\n",
    "                    INTO #phewasCountFemalesASD0to2\n",
    "                    FROM #tmpFemalesASD0to2PheWAS T\n",
    "                    GROUP BY T.MemberId, T.PheCode\"\n",
    ")"
   ]
  },
  {
   "cell_type": "markdown",
   "metadata": {},
   "source": [
    "Join the two tables"
   ]
  },
  {
   "cell_type": "code",
   "execution_count": null,
   "metadata": {
    "collapsed": true
   },
   "outputs": [],
   "source": [
    "dbSendUpdate( cn, \"SELECT T.MemberId,  T.BirthYear, T.DateServiceStarted, T.Age, T.Icd, T.PheCode, P.Count\n",
    "                    INTO #finalASDfem0to2\n",
    "                    FROM #tmpFemalesASD0to2PheWAS T\n",
    "                    INNER JOIN #phewasCountFemalesASD0to2 P \n",
    "                    ON T.MemberId = P.MemberId AND T.PheCode = P.PheCode\"\n",
    ")"
   ]
  },
  {
   "cell_type": "markdown",
   "metadata": {},
   "source": [
    "Remove those ICD9-CM codes that are autism codes"
   ]
  },
  {
   "cell_type": "code",
   "execution_count": null,
   "metadata": {
    "collapsed": true
   },
   "outputs": [],
   "source": [
    "dbSendUpdate( cn, \"SELECT * \n",
    "                    INTO ag440.dbo.ASDfem0to2Comorbidities \n",
    "                    FROM #finalASDfem0to2 F \n",
    "                    WHERE F.Icd \n",
    "                    NOT IN (SELECT I.Icd9Code \n",
    "                            FROM #tmpAsdIcdCodes I)\"\n",
    ")"
   ]
  },
  {
   "cell_type": "markdown",
   "metadata": {},
   "source": [
    "Remove duplicate rows (if any)"
   ]
  },
  {
   "cell_type": "code",
   "execution_count": null,
   "metadata": {
    "collapsed": true
   },
   "outputs": [],
   "source": [
    "dbSendUpdate( cn, \"WITH CTE AS(\n",
    "             SELECT *, ROW_NUMBER() \n",
    "             OVER ( PARTITION BY MemberId, BirthYear, DateServiceStarted, Age, Icd,  \n",
    "             PheCode, Count ORDER BY MemberId, BirthYear, DateServiceStarted, Age, Icd,  \n",
    "             PheCode, Count) AS RN\n",
    "             FROM ag440.dbo.ASDfem0to2Comorbidities)\n",
    "             DELETE FROM CTE WHERE RN<>1\"\n",
    ")"
   ]
  },
  {
   "cell_type": "markdown",
   "metadata": {},
   "source": [
    "### ASD males from 0 to 2 years old"
   ]
  },
  {
   "cell_type": "code",
   "execution_count": null,
   "metadata": {
    "collapsed": true
   },
   "outputs": [],
   "source": [
    "dbSendUpdate( cn, \"SELECT\n",
    "             F.MemberId, F.Icd,\n",
    "             M.BirthYear,F.DateServiceStarted,\n",
    "             YEAR(F.DateServiceStarted) - M.BirthYear AS Age\n",
    "             INTO #tmpAsdMaleIcd\n",
    "             FROM\n",
    "             FactIcd F\n",
    "             INNER JOIN Members M ON\n",
    "             F.MemberId=M.MemberId\n",
    "             INNER JOIN ag440.dbo.ASDmales_count T ON\n",
    "             M.MemberId=T.MemberId\n",
    "             WHERE\n",
    "             IcdVersion = '9'\"\n",
    ")"
   ]
  },
  {
   "cell_type": "markdown",
   "metadata": {},
   "source": [
    "Remove patients with diagnostic errores, females diagnosed with ICD9-CM codes that are male specific. "
   ]
  },
  {
   "cell_type": "code",
   "execution_count": null,
   "metadata": {
    "collapsed": true
   },
   "outputs": [],
   "source": [
    "dbSendUpdate( cn, \"SELECT MemberId \n",
    "                    INTO #tmptestMale \n",
    "                    FROM #tmpAsdMaleIcd \n",
    "                    WHERE Icd \n",
    "                    IN (SELECT ICD9 \n",
    "                    FROM ag440.dbo.icd9tophewas \n",
    "                    WHERE Sex = 'Female') \"\n",
    ")"
   ]
  },
  {
   "cell_type": "code",
   "execution_count": null,
   "metadata": {
    "collapsed": true
   },
   "outputs": [],
   "source": [
    "dbSendUpdate( cn, \"SELECT * \n",
    "                    INTO ag440.dbo.ASDmalesICD \n",
    "                    FROM #tmpAsdMaleIcd \n",
    "                    WHERE MemberId \n",
    "                    NOT IN ( SELECT DISTINCT( MemberId )  \n",
    "                    FROM #tmptestMale)\"\n",
    ")"
   ]
  },
  {
   "cell_type": "markdown",
   "metadata": {},
   "source": [
    "Filter by age, for example, diagnostic done from 0 to 2 years old. "
   ]
  },
  {
   "cell_type": "code",
   "execution_count": null,
   "metadata": {
    "collapsed": true
   },
   "outputs": [],
   "source": [
    "dbSendUpdate( cn, \"SELECT * \n",
    "                    INTO #tmpMalesASD0to2 \n",
    "                    FROM #tmpAsdMaleIcdNoError \n",
    "                    WHERE Age >= 0 AND Age <= 2\"\n",
    ")"
   ]
  },
  {
   "cell_type": "markdown",
   "metadata": {},
   "source": [
    "Map the ICD9-CM codes to PheWAS code"
   ]
  },
  {
   "cell_type": "code",
   "execution_count": null,
   "metadata": {
    "collapsed": true
   },
   "outputs": [],
   "source": [
    "dbSendUpdate( cn, \"SELECT A.MemberId, A.BirthYear, A.DateServiceStarted, A.Age, A.Icd, B.PheCode\n",
    "                    INTO #tmpMalesASD0to2PheWAS\n",
    "                    FROM #tmpMalesASD0to2 A \n",
    "                    INNER JOIN ag440.dbo.icd9tophewas B ON\n",
    "                    A.Icd = B.ICD9\"\n",
    ")"
   ]
  },
  {
   "cell_type": "markdown",
   "metadata": {},
   "source": [
    "Add the counts"
   ]
  },
  {
   "cell_type": "code",
   "execution_count": null,
   "metadata": {
    "collapsed": true
   },
   "outputs": [],
   "source": [
    "dbSendUpdate( cn, \"SELECT T.MemberId, T.PheCode, COUNT(T.PheCode) AS Count\n",
    "                    INTO #phewasCountMalesASD0to2\n",
    "                    FROM #tmpMalesASD0to2PheWAS T\n",
    "                    GROUP BY T.MemberId, T.PheCode\"\n",
    ")"
   ]
  },
  {
   "cell_type": "markdown",
   "metadata": {},
   "source": [
    "Join the two tables"
   ]
  },
  {
   "cell_type": "code",
   "execution_count": null,
   "metadata": {
    "collapsed": true
   },
   "outputs": [],
   "source": [
    "dbSendUpdate( cn, \"SELECT T.MemberId,  T.BirthYear, T.DateServiceStarted, T.Age, T.Icd, T.PheCode, P.Count\n",
    "                    INTO #finalASDmale0to2\n",
    "                    FROM #tmpMalesASD0to2PheWAS T\n",
    "                    INNER JOIN #phewasCountMalesASD0to2 P ON\n",
    "                    T.MemberId = P.MemberId AND T.PheCode = P.PheCode\"\n",
    ")"
   ]
  },
  {
   "cell_type": "markdown",
   "metadata": {},
   "source": [
    "Remove those ICD9-CM codes that are autism codes"
   ]
  },
  {
   "cell_type": "code",
   "execution_count": null,
   "metadata": {
    "collapsed": true
   },
   "outputs": [],
   "source": [
    "dbSendUpdate( cn, \"SELECT * \n",
    "                    INTO ag440.dbo.ASDmales0to2Comorbidities \n",
    "                    FROM #finalASDmale0to2 F \n",
    "                    WHERE F.Icd \n",
    "                    NOT IN ( SELECT I.Icd9Code \n",
    "                    FROM #tmpAsdIcdCodes I)\"\n",
    ")"
   ]
  },
  {
   "cell_type": "markdown",
   "metadata": {},
   "source": [
    "Remove duplicate rows (if any)"
   ]
  },
  {
   "cell_type": "code",
   "execution_count": null,
   "metadata": {
    "collapsed": true
   },
   "outputs": [],
   "source": [
    "dbSendUpdate( cn, \"WITH CTE AS(\n",
    "             SELECT *, ROW_NUMBER() \n",
    "             OVER ( PARTITION BY MemberId, BirthYear, DateServiceStarted, Age, Icd,  \n",
    "             PheCode, Count ORDER BY MemberId, BirthYear, DateServiceStarted, Age, Icd,  \n",
    "             PheCode, Count) AS RN\n",
    "             FROM\n",
    "             ag440.dbo.ASDmales0to2Comorbidities\n",
    "             )\n",
    "             DELETE FROM CTE WHERE RN<>1\")"
   ]
  },
  {
   "cell_type": "markdown",
   "metadata": {},
   "source": [
    "### Females without ASD from 0 to 2 years old\n",
    "\n",
    "For the previous generated table containing all the identifiers for females without ASD, we extract the ICD9-CM codes as well as the birth year and the date service started, and the age estimated with both variables, that will allow us to filter by age of diagnostic. "
   ]
  },
  {
   "cell_type": "code",
   "execution_count": null,
   "metadata": {
    "collapsed": true
   },
   "outputs": [],
   "source": [
    "dbSendUpdate( cn, \"SELECT F.MemberId, F.Icd, M.BirthYear,F.DateServiceStarted,\n",
    "                     YEAR(F.DateServiceStarted) - M.BirthYear AS Age\n",
    "                     INTO ag440.dbo.nonASDfemalesIcdCode\n",
    "                     FROM FactIcd F\n",
    "                     INNER JOIN Members M ON\n",
    "                     F.MemberId=M.MemberId\n",
    "                     INNER JOIN ag440.dbo.nonASDfemales_count T ON\n",
    "                     M.MemberId=T.MemberId\n",
    "                     WHERE IcdVersion = '9'\n",
    "                     GROUP BY F.MemberId, F.Icd, M.BirthYear,F.DateServiceStarted\"\n",
    ")"
   ]
  },
  {
   "cell_type": "markdown",
   "metadata": {},
   "source": [
    "Then to detect the females with potential diagnostic errors, we create two different tables, one with the whole list of females without ASD and another list with the ones with error diagnostic. Then we use both lists to create the one without errors. "
   ]
  },
  {
   "cell_type": "code",
   "execution_count": null,
   "metadata": {
    "collapsed": true
   },
   "outputs": [],
   "source": [
    "#all females without ASD\n",
    "dbSendUpdate( cn, \"SELECT DISTINCT( MemberId ) \n",
    "                    INTO #tmpAllNonASDfemales \n",
    "                    FROM  ag440.dbo.nonASDfemalesIcdCode \"\n",
    ")\n",
    "\n",
    "#all females without ASD with at least one diagnostic error\n",
    "#(male specific disease assigned to a female)\n",
    "dbSendUpdate( cn, \"SELECT MemberId \n",
    "                    INTO #errorFemales \n",
    "                    FROM ag440.dbo.nonASDfemalesIcdCode \n",
    "                    WHERE Icd IN (SELECT ICD9 FROM ag440.dbo.icd9tophewas \n",
    "                    WHERE Sex = 'Male') \"\n",
    ")\n",
    "\n",
    "#list with the females without errors\n",
    "dbSendUpdate( cn, \"SELECT * \n",
    "                    INTO #femalesNoError \n",
    "                    FROM #tmpAllNonASDfemales \n",
    "                    WHERE MemberId \n",
    "                    NOT IN ( SELECT DISTINCT( MemberId ) \n",
    "                    FROM #errorFemales)\"\n",
    ")\n",
    "\n",
    "#subset of our initial table with the ICD information\n",
    "#for the females without ASD and without errors\n",
    "dbSendUpdate( cn, \"SELECT * \n",
    "                    INTO ag440.dbo.nonASDfemalesICD \n",
    "                    FROM ag440.dbo.nonASDfemalesIcdCode \n",
    "                    WHERE MemberId \n",
    "                    IN ( SELECT MemberId \n",
    "                    FROM #femalesNoError )\"\n",
    ")"
   ]
  },
  {
   "cell_type": "markdown",
   "metadata": {},
   "source": [
    "Filter by age, for example, diagnostic done from 0 to 2 years old. "
   ]
  },
  {
   "cell_type": "code",
   "execution_count": null,
   "metadata": {
    "collapsed": true
   },
   "outputs": [],
   "source": [
    "dbSendUpdate( cn, \"SELECT * \n",
    "                    INTO #tmpFemalesASD0to2 \n",
    "                    FROM ag440.dbo.nonASDfemalesICD \n",
    "                    WHERE Age >= 0 AND Age <= 2 \"\n",
    ")"
   ]
  },
  {
   "cell_type": "markdown",
   "metadata": {},
   "source": [
    "Map the ICD9-CM codes to PheWAS code"
   ]
  },
  {
   "cell_type": "code",
   "execution_count": null,
   "metadata": {
    "collapsed": true
   },
   "outputs": [],
   "source": [
    "dbSendUpdate( cn, \"SELECT A.MemberId, A.BirthYear, A.DateServiceStarted, A.Age, A.Icd, B.PheWASCode\n",
    "                    INTO #tmpFemalesASD0to2PheWAS\n",
    "                    FROM #tmpFemalesASD0to2 A \n",
    "                    INNER JOIN PheWAS.dbo.Icd9CodeTranslation B ON\n",
    "                    A.Icd = B.Icd9Code\"\n",
    ")"
   ]
  },
  {
   "cell_type": "markdown",
   "metadata": {},
   "source": [
    "Add the counts"
   ]
  },
  {
   "cell_type": "code",
   "execution_count": null,
   "metadata": {
    "collapsed": true
   },
   "outputs": [],
   "source": [
    "dbSendUpdate( cn, \"SELECT T.MemberId, T.PheWAScode, COUNT(T.PheWASCode) AS Count\n",
    "                    INTO #phewasCountFemalesASD0to2\n",
    "                    FROM #tmpFemalesASD0to2PheWAS T\n",
    "                    GROUP BY T.MemberId, T.PheWAScode\"\n",
    ")"
   ]
  },
  {
   "cell_type": "markdown",
   "metadata": {},
   "source": [
    "Join the two tables"
   ]
  },
  {
   "cell_type": "code",
   "execution_count": null,
   "metadata": {
    "collapsed": true
   },
   "outputs": [],
   "source": [
    "dbSendUpdate( cn, \"SELECT T.MemberId,  T.BirthYear, T.DateServiceStarted, T.Age, T.Icd, T.PheWAScode, P.Count\n",
    "                    INTO ag440.dbo.nonASDfemale0to2Comorbidities\n",
    "                    FROM #tmpFemalesASD0to2PheWAS T\n",
    "                    INNER JOIN #phewasCountFemalesASD0to2 P ON\n",
    "                    T.MemberId = P.MemberId AND T.PheWAScode = P.PheWAScode\n",
    "                    GROUP BY T.MemberId,  T.BirthYear, T.DateServiceStarted, T.Age, T.Icd, T.PheWAScode, P.Count\"\n",
    ")"
   ]
  },
  {
   "cell_type": "markdown",
   "metadata": {},
   "source": [
    "### Males without ASD from 0 to 2 years old\n",
    "\n",
    "Now we will do the same for males without ASD. For the previous generated table containing all the identifiers for males without ASD, we extract the ICD9-CM codes as well as the birth year and the date service started, and the age estimated with both variables, that will allow us to filter by age of diagnostic."
   ]
  },
  {
   "cell_type": "code",
   "execution_count": null,
   "metadata": {
    "collapsed": true
   },
   "outputs": [],
   "source": [
    "dbSendUpdate( cn, \"SELECT F.MemberId, F.Icd, M.BirthYear,F.DateServiceStarted, \n",
    "                    YEAR(F.DateServiceStarted) - M.BirthYear AS Age \n",
    "                    INTO ag440.dbo.nonASDmalesIcdCode \n",
    "                    FROM FactIcd F \n",
    "                    INNER JOIN Members M \n",
    "                    ON F.MemberId=M.MemberId \n",
    "                    INNER JOIN ag440.dbo.nonASDmales_count T\n",
    "                    ON M.MemberId=T.MemberId \n",
    "                    WHERE IcdVersion = '9'\n",
    "                    GROUP BY \n",
    "                    F.MemberId, F.Icd, M.BirthYear,F.DateServiceStarted\"\n",
    ")"
   ]
  },
  {
   "cell_type": "markdown",
   "metadata": {},
   "source": [
    "Then to detect the males with potential diagnostic errors, we create two different tables, one with the whole list of males without ASD and another list with the ones with error diagnostic. Then we use both lists to create the one without errors."
   ]
  },
  {
   "cell_type": "code",
   "execution_count": null,
   "metadata": {
    "collapsed": true
   },
   "outputs": [],
   "source": [
    "#all males without ASD\n",
    "dbSendUpdate( cn, \"SELECT DISTINCT( MemberId ) \n",
    "                    INTO #tmpAllNonASDmales \n",
    "                    FROM  ag440.dbo.nonASDmalesIcdCode\"\n",
    ")\n",
    "\n",
    "#all males without ASD with at least one diagnostic error\n",
    "#(female specific disease assigned to a male)\n",
    "dbSendUpdate( cn, \"SELECT MemberId \n",
    "                    INTO #errorMales \n",
    "                    FROM ag440.dbo.nonASDmalesIcdCode \n",
    "                    WHERE Icd IN (SELECT ICD9 \n",
    "                    FROM ag440.dbo.icd9tophewas \n",
    "                    WHERE Sex = 'Female') \"\n",
    ")\n",
    "\n",
    "#list with the males without errors\n",
    "dbSendUpdate( cn, \"SELECT * \n",
    "                    INTO #malesNoError \n",
    "                    FROM #tmpAllNonASDmales \n",
    "                    WHERE MemberId NOT IN ( SELECT DISTINCT( MemberId ) \n",
    "                    FROM #errorMales)\"\n",
    ")\n",
    "\n",
    "#subset of our initial table with the ICD information\n",
    "#for the males without ASD without errors\n",
    "dbSendUpdate( cn, \"SELECT * \n",
    "                    INTO ag440.dbo.nonASDmalesICD \n",
    "                    FROM ag440.dbo.nonASDmalesIcdCode \n",
    "                    WHERE MemberId IN ( SELECT MemberId \n",
    "                    FROM #malesNoError )\n",
    "\"\n",
    ")"
   ]
  },
  {
   "cell_type": "markdown",
   "metadata": {},
   "source": [
    "Filter by age, for example, diagnostic done from 0 to 2 years old."
   ]
  },
  {
   "cell_type": "code",
   "execution_count": null,
   "metadata": {
    "collapsed": true
   },
   "outputs": [],
   "source": [
    "dbSendUpdate( cn, \"SELECT * \n",
    "                    INTO #tmpMalesASD0to2 \n",
    "                    FROM ag440.dbo.nonASDmalesICD \n",
    "                    WHERE Age >= 0 AND Age <= 2 \"\n",
    ")"
   ]
  },
  {
   "cell_type": "markdown",
   "metadata": {},
   "source": [
    "Map the ICD9-CM codes to PheWAS code"
   ]
  },
  {
   "cell_type": "code",
   "execution_count": null,
   "metadata": {
    "collapsed": true
   },
   "outputs": [],
   "source": [
    "dbSendUpdate( cn, \"SELECT A.MemberId, A.BirthYear, A.DateServiceStarted, A.Age, A.Icd, B.PheWASCode\n",
    "                    INTO #tmpMalesASD0to2PheWAS\n",
    "                    FROM #tmpMalesASD0to2 A \n",
    "                    INNER JOIN PheWAS.dbo.Icd9CodeTranslation B ON\n",
    "                    A.Icd = B.Icd9Code\"\n",
    ")"
   ]
  },
  {
   "cell_type": "markdown",
   "metadata": {},
   "source": [
    "Add the counts"
   ]
  },
  {
   "cell_type": "code",
   "execution_count": null,
   "metadata": {
    "collapsed": true
   },
   "outputs": [],
   "source": [
    "dbSendUpdate( cn, \"SELECT T.MemberId, T.PheWAScode, COUNT(T.PheWASCode) AS Count\n",
    "                    INTO #phewasCountMalesASD0to2\n",
    "                    FROM #tmpMalesASD0to2PheWAS T\n",
    "                    GROUP BY T.MemberId, T.PheWAScode\"\n",
    ")"
   ]
  },
  {
   "cell_type": "markdown",
   "metadata": {},
   "source": [
    "Join the two tables"
   ]
  },
  {
   "cell_type": "code",
   "execution_count": null,
   "metadata": {
    "collapsed": true
   },
   "outputs": [],
   "source": [
    "dbSendUpdate( cn, \"SELECT T.MemberId,  T.BirthYear, T.DateServiceStarted, T.Age, T.Icd, T.PheWAScode, P.Count\n",
    "                    INTO ag440.dbo.nonASDmale0to2Comorbidities\n",
    "                    FROM #tmpMalesASD0to2PheWAS T\n",
    "                    INNER JOIN #phewasCountMalesASD0to2 P ON\n",
    "                    T.MemberId = P.MemberId AND T.PheWAScode = P.PheWAScode\n",
    "                    GROUP BY T.MemberId,  T.BirthYear, T.DateServiceStarted, T.Age, T.Icd, T.PheWAScode, P.Count\"\n",
    ")"
   ]
  }
 ],
 "metadata": {
  "kernelspec": {
   "display_name": "R",
   "language": "R",
   "name": "ir"
  },
  "language_info": {
   "codemirror_mode": "r",
   "file_extension": ".r",
   "mimetype": "text/x-r-source",
   "name": "R",
   "pygments_lexer": "r",
   "version": "3.3.1"
  }
 },
 "nbformat": 4,
 "nbformat_minor": 1
}
