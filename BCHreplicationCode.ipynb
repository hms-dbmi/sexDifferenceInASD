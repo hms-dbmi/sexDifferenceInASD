{
 "cells": [
  {
   "cell_type": "markdown",
   "metadata": {},
   "source": [
    "## Sex differences in Autism Spectrum Disorder, a Comorbidity Pattern Analysis in National Scale Data: replication in Boston Children Hospital data\n",
    "\n",
    "This analysis was run using R Version 3.6.\n",
    "\n",
    "### Install and Load libraries"
   ]
  },
  {
   "cell_type": "code",
   "execution_count": null,
   "metadata": {
    "collapsed": false
   },
   "outputs": [],
   "source": [
    "install.packages( \"knitr\", repos='http://cran.us.r-project.org')\n",
    "install.packages( \"dplyr\", repos='http://cran.us.r-project.org')\n",
    "install.packages(\"tidyr\", repos='http://cran.us.r-project.org')\n",
    "library( \"knitr\" )\n",
    "library( \"dplyr\" )\n",
    "library( \"tidyr\" )"
   ]
  },
  {
   "cell_type": "markdown",
   "metadata": {},
   "source": [
    "### ASD patient selection"
   ]
  },
  {
   "cell_type": "code",
   "execution_count": null,
   "metadata": {
    "collapsed": false
   },
   "outputs": [],
   "source": [
    "# Define ASD ICD9 coodes\n",
    "autismIcd9codes <- c( \"299.0\", \"299.00\",\"299.01\", \"299.8\", \"299.80\", \"299.81\", \"299.9\", \"299.90\", \"299.91\")\n",
    "\n",
    "# Load the data extracted from BCH\n",
    "load(\"bchRawData.Rdata\")"
   ]
  },
  {
   "cell_type": "markdown",
   "metadata": {},
   "source": [
    "Select those patients with at least 3 ASD diganosis."
   ]
  },
  {
   "cell_type": "code",
   "execution_count": null,
   "metadata": {
    "collapsed": true
   },
   "outputs": [],
   "source": [
    "asdBch3diag <- bchRawData[ bchRawData$code %in% autismIcd9codes, c( \"PATIENT_NUM\", \"code\" ) ]\n",
    "asdBch3diag <- as.data.frame( table( asdBch3diag$PATIENT_NUM ) )\n",
    "asdBch3diag <- asdBch3diag[ asdBch3diag$Freq >= 3, ]\n",
    "\n",
    "ASD <- bchRawData[ bchRawData$PATIENT_NUM %in% asdBch3diag$Var1, ]\n",
    "ASD <- ASD[! ASD$code %in% autismIcd9codes, ]"
   ]
  },
  {
   "cell_type": "markdown",
   "metadata": {},
   "source": [
    "##### Remove those patients that could be in Aetna\n",
    "To guarante that the two sets are completely independent we remove those patients from BCH taht could be potentially in Aetna. To do this we look for those patients that had \"AETNA\" string in one of the fields and that had and Autism ICD9-CM code. We create a list with all the patients in BCH meeting this criteria. "
   ]
  },
  {
   "cell_type": "code",
   "execution_count": null,
   "metadata": {
    "collapsed": true
   },
   "outputs": [],
   "source": [
    "# SELECT CONCEPT_CD FROM ASD_GI.CONCEPT_DIMENSION where NAME_CHAR like '%AETNA%';\n",
    "# SELECT distinct PATIENT_NUM FROM ASD_GI.OBSERVATION_FACT \n",
    "# WHERE CONCEPT_CD IN  ('INS:4325','INS:2','INS:3','INS:7070','INS:4100')\n",
    "# INTERSECT\n",
    "# SELECT distinct PATIENT_NUM FROM ASD_GI.OBSERVATION_FACT \n",
    "# WHERE CONCEPT_CD IN ('ICD9:299.0','ICD9:299.01','ICD9:299.00','ICD9:299.80','ICD9:299.8','ICD9:299.81','ICD9:299.9','ICD9:299.90','ICD9:299.91');"
   ]
  },
  {
   "cell_type": "markdown",
   "metadata": {},
   "source": [
    "Then, we remove the potential Aetna patients from BCH. "
   ]
  },
  {
   "cell_type": "code",
   "execution_count": null,
   "metadata": {
    "collapsed": false
   },
   "outputs": [],
   "source": [
    "bchAetnaPatients <- read.delim(\"bchPatientsToAetna.csv\", header = TRUE)\n",
    "ASD <- ASD[! ASD$PATIENT_NUM %in% bchAetnaPatients$PATIENT_NUM, ]"
   ]
  },
  {
   "cell_type": "markdown",
   "metadata": {},
   "source": [
    "#### Generate the four data groups:\n",
    "\n",
    "##### ASD females"
   ]
  },
  {
   "cell_type": "code",
   "execution_count": null,
   "metadata": {
    "collapsed": true
   },
   "outputs": [],
   "source": [
    "femaleASD <- ASD[ ASD$SEX_CD == \"F\", c( \"PATIENT_NUM\", \"code\",\"START_DATE\", \"SEX_CD\", \"BIRTH_DATE\", \"age\" ) ]\n",
    "colnames( femaleASD ) <- c( \"MemberId\", \"Icd\",\"DateServiceStarted\", \"Gender\", \"BirthYear\", \"age\" )\n",
    "femaleASD$Caco <- \"Female\""
   ]
  },
  {
   "cell_type": "markdown",
   "metadata": {},
   "source": [
    "##### ASD males"
   ]
  },
  {
   "cell_type": "code",
   "execution_count": null,
   "metadata": {
    "collapsed": true
   },
   "outputs": [],
   "source": [
    "maleASD   <- ASD[ ASD$SEX_CD == \"M\",  c( \"PATIENT_NUM\", \"code\", \"START_DATE\", \"SEX_CD\", \"BIRTH_DATE\", \"age\" ) ]\n",
    "colnames( maleASD ) <- c( \"MemberId\", \"Icd\",\"DateServiceStarted\", \"Gender\", \"BirthYear\", \"age\" )\n",
    "maleASD$Caco <- \"Male\""
   ]
  },
  {
   "cell_type": "markdown",
   "metadata": {},
   "source": [
    "##### Females without ASD"
   ]
  },
  {
   "cell_type": "code",
   "execution_count": null,
   "metadata": {
    "collapsed": true
   },
   "outputs": [],
   "source": [
    "load(\"noAsDBch.RData\")\n",
    "femaleNonASD <- DataF[ DataF$SEX_CD == \"F\", c( \"PATIENT_NUM\", \"CONCEPT_CD\",\"START_DATE\", \"SEX_CD\", \"BIRTH_DATE\", \"Age\" )]\n",
    "femaleNonASD$CONCEPT_CD <- sapply( strsplit( as.character( femaleNonASD$CONCEPT_CD), \"[:]\"), '[', 2 )\n",
    "colnames( femaleNonASD ) <- c( \"MemberId\", \"Icd\",\"DateServiceStarted\", \"Gender\", \"BirthYear\", \"age\" )\n",
    "femaleNonASD$Caco <- \"FemaleNonASD\""
   ]
  },
  {
   "cell_type": "markdown",
   "metadata": {},
   "source": [
    "##### Males without ASD"
   ]
  },
  {
   "cell_type": "code",
   "execution_count": null,
   "metadata": {
    "collapsed": true
   },
   "outputs": [],
   "source": [
    "maleNonASD <- DataF[ DataF$SEX_CD == \"M\", c( \"PATIENT_NUM\", \"CONCEPT_CD\",\"START_DATE\", \"SEX_CD\", \"BIRTH_DATE\", \"Age\" ) ]\n",
    "maleNonASD$CONCEPT_CD <- sapply( strsplit( as.character( maleNonASD$CONCEPT_CD ), \"[:]\"), '[', 2 )\n",
    "colnames( maleNonASD ) <- c( \"MemberId\", \"Icd\",\"DateServiceStarted\", \"Gender\", \"BirthYear\", \"age\" )\n",
    "maleNonASD$Caco <- \"MaleNonASD\""
   ]
  },
  {
   "cell_type": "markdown",
   "metadata": {},
   "source": [
    "### Create a function to run the comorbidity analysis\n",
    "Create a function that giving as input:\n",
    "- Two patient groups to compare\n",
    "- The age range under study\n",
    "- The minimum number of diagnosis to consider a patient having a diagnosis\n",
    "\n",
    "Generates as an output a table with the:\n",
    "- Phenotypes\n",
    "- Number of patients of each group having the PheCodes\n",
    "- Number of patients of each group not having the PheCodes \n",
    "- Number of patients of each group excluded for each PheCodes because they have been diagnosed but less than the minimum times"
   ]
  },
  {
   "cell_type": "code",
   "execution_count": null,
   "metadata": {
    "collapsed": true
   },
   "outputs": [],
   "source": [
    "myComorbidityAnalysis <- function( caseGroup, controlGroup, myDataSet, minAge = 0, maxAge= 18, \n",
    "                                  caseSymbol = \"ASD\", controlSymbol = \"nonASD\", minimunDiagnosis = 3){\n",
    "    \n",
    "    if( missing( myDataSet ) ){\n",
    "        myCompleteData <- rbind( caseGroup, controlGroup )\n",
    "    }else{\n",
    "        myCompleteData <- myDataSet\n",
    "    }\n",
    "  \n",
    "    #select diagnostics in the age range\n",
    "    myCompleteData <- myCompleteData[ myCompleteData$age >= minAge &\n",
    "                                      myCompleteData$age <= maxAge, ]\n",
    "    \n",
    "    #remove males with females ASD diagnosis\n",
    "    message( \"Remove males with females ASD diagnosis ...\" )\n",
    "    sexSpecificPheCodes <- read.csv( \"phecode_definitions1.2.csv\", header =TRUE, colClasses = \"character\" )\n",
    "    femaleSpecificPheCodes <- sexSpecificPheCodes[ sexSpecificPheCodes$sex == \"Female\", ]\n",
    "    maleSpecificPheCodes <- sexSpecificPheCodes[ sexSpecificPheCodes$sex == \"Male\", ]\n",
    "    \n",
    "    \n",
    "    if(! \"Phenotype\" %in% colnames( myCompleteData) ){\n",
    "        phemapFile <- read.csv(\"phecode_icd9_rolled.csv\", header =TRUE, colClasses = \"character\")\n",
    "        phemapFile <- phemapFile[, c( \"ICD9\", \"PheCode\") ]\n",
    "        colnames( phemapFile ) <- c(\"Icd\", \"Phenotype\")\n",
    "        \n",
    "        myCompleteDataFinal <- inner_join( myCompleteData, phemapFile, by = \"Icd\")\n",
    "        rm( myCompleteData )\n",
    "    }else{\n",
    "        myCompleteDataFinal <- myCompleteData\n",
    "        rm( myCompleteData )\n",
    "    }\n",
    "    \n",
    "    #remove females with males ASD diagnosis and viceversa\n",
    "    message(\"Remove females with males ASD diagnosis ...\")\n",
    "    femaleDiagnosisError <- myCompleteDataFinal[ myCompleteDataFinal$Phenotype %in% maleSpecificPheCodes$jd_code & \n",
    "                                                 myCompleteDataFinal$Gender == \"F\", ]\n",
    "    myCompleteDataFinal <- myCompleteDataFinal[! myCompleteDataFinal$MemberId %in% femaleDiagnosisError$MemberId, ]\n",
    "    \n",
    "    \n",
    "    # Case-control file: id, case or control \n",
    "    message(\"Generating the case-control file containing patient identifier and case/control status ...\")\n",
    "    caco <- myCompleteDataFinal[, c( \"MemberId\", \"Caco\" ) ]\n",
    "    caco <- caco[ ! duplicated( caco ) , ]\n",
    "    caco$Caco <- gsub( controlSymbol, 0, caco$Caco )\n",
    "    caco$Caco <- gsub( caseSymbol, 1, caco$Caco )\n",
    "    \n",
    "    message( paste0( \"Total number of patients in the data set\", length( unique( caco$patientId ) ) ) )\n",
    "    message( paste0( \"Summary of controls and cases in the data set\", summary( as.factor( caco$Caco ) ) ) )\n",
    "    \n",
    "    # Create phenotype dataframe: id, PheCode and counts #\n",
    "    message(\"Generating the file containing patient identifier, PheCode code and counts ...\")\n",
    "    phenotype <- myCompleteDataFinal[, c( \"MemberId\", \"Phenotype\" ) ]\n",
    "    colnames( phenotype ) <- c( \"patientId\", \"phecode\" )\n",
    "    \n",
    "    phenotype$pair <- paste( phenotype$patientId, phenotype$phecode, sep = \"*\" )\n",
    "    counts <- as.data.frame( table( phenotype$pair ) )\n",
    "    colnames( counts ) <- c(\"pair\", \"counts\")\n",
    "    \n",
    "    phenotypeFinal <- inner_join( phenotype, counts, by = \"pair\" )\n",
    "    phenotypeFinal <- phenotypeFinal[! duplicated(phenotypeFinal), c(\"patientId\", \"phecode\", \"counts\")]\n",
    "    \n",
    "    # Merge with the Case-control information \n",
    "    data4f <- inner_join( phenotypeFinal, caco, by = \"patientId\" )\n",
    "    caco$Caco <- as.character( caco$Caco )\n",
    "    \n",
    "    totalPhewasCodes <- unique( phenotypeFinal$phecode )\n",
    "    phewasOutput     <- as.data.frame( matrix( ncol=7, nrow=length( totalPhewasCodes ) ) )\n",
    "    colnames( phewasOutput ) <- c( \"phecode\", \"caseYes\", \"caseNo\", \"caseExclude\", \n",
    "                                     \"controlYes\", \"controlNo\", \"controlExclude\" )\n",
    "    phewasOutput$phecode <- as.character( totalPhewasCodes )\n",
    "    \n",
    "    \n",
    "    for( i in 1:length( totalPhewasCodes ) ){\n",
    "        \n",
    "        excludedPatients <- sum( is.na( data4f[, names( phenotypesUnderStudy )[ i ] ] ) )\n",
    "        cacodf <-  data4f[, c( names( phenotypesUnderStudy )[ i ], \"patientId\", \"Caco\" ) ]\n",
    "        cacodf <- na.omit( cacodf )\n",
    "        \n",
    "        caseDisease   <- length( unique(cacodf[ cacodf[, 1] == 1 & cacodf$Caco == \"1\", \"patientId\"]))\n",
    "        caseNoDisease <- length( unique(cacodf[ cacodf[, 1] == 0 & cacodf$Caco == \"1\", \"patientId\"]))\n",
    "        \n",
    "        controlDisease   <- length(unique(cacodf[ cacodf[, 1] == 1 & cacodf$Caco == \"0\", \"patientId\"]))\n",
    "        controlNoDisease <- length(unique(cacodf[ cacodf[, 1] == 0 & cacodf$Caco == \"0\", \"patientId\"]))\n",
    "        \n",
    "        newRow <- c ( names(phenotypesUnderStudy)[i], caseDisease, caseNoDisease, controlDisease, controlNoDisease )\n",
    "        phewasOutput <- rbind( newRow, phewasOutput )\n",
    "  }\n",
    "    \n",
    "    colnames( phewasOutput ) <- c( \"phecode\", \"casePhenotype_present\", \"casePhenotype_absent\", \n",
    "                                \"controlPhenotype_present\", \"controlPhenotype_absent\", \"Excluded_patients\" )\n",
    "  \n",
    "    message( \"Done! Congratulations! Your comorbidity analysis has been finished!\" )\n",
    "    return( phewasOutput )\n",
    "}\n",
    "\n",
    "\n",
    "#Function to perform the fisher test\n",
    "get_fisher <- function( df ){\n",
    "    \n",
    "  mat <- matrix( as.numeric( df[ c( 2,3,4,5 ) ] ), ncol=2 )\n",
    "  f <- fisher.test( mat, alt = \"two.sided\" )\n",
    "  return( c( unlist( df[ 1 ] ), f$p.value, f$conf.int, f$estimate ) )\n",
    "    \n",
    "}"
   ]
  },
  {
   "cell_type": "markdown",
   "metadata": {},
   "source": [
    "### Apply the function to run the comorbidity analysis \n",
    "We will apply the previous function to a specific age range for the three different groups we want to compare:\n",
    "- ASD females vs ASD males\n",
    "- ASD females vs females without ASD\n",
    "- Females without ASD vs males without ASD"
   ]
  },
  {
   "cell_type": "code",
   "execution_count": null,
   "metadata": {
    "collapsed": false
   },
   "outputs": [],
   "source": [
    "# ASD females vs ASD males #\n",
    "maleASD$Caco   <- \"male\"\n",
    "femaleASD$Caco <- \"female\"\n",
    "\n",
    "#apply the myComorbidityAnalysis function \n",
    "maleVsFemale12to18 <- myComorbidityAnalysis( femaleAsdSet  = femaleASD, \n",
    "                                        femaleNonAsdSet  = maleASD, \n",
    "                                        minAge           = 12,\n",
    "                                        maxAge           = 18,\n",
    "                                        caseSymbol       = \"female\", \n",
    "                                        controlSymbol    = \"male\", \n",
    "                                        minimunDiagnosis = 3 )\n",
    "\n",
    "\n",
    "maleVsFemale12to18 <- maleVsFemale12to18[ complete.cases( maleVsFemale12to18 ) , ]\n",
    "\n",
    "#apply the fisher test function\n",
    "fishers <- t( apply( maleVsFemale12to18, 1,  get_fisher ) )\n",
    "colnames( fishers ) <- c(\"phecode\", \"pValue\", \"confIntL\", \"confIntH\", \"OR\" )\n",
    "maleVsFemale12to18 <- merge( maleVsFemale12to18, fishers, by = \"phecode\" )\n",
    "\n",
    "#add the adjusted p-value\n",
    "maleVsFemale12to18$pAdjust <- p.adjust( as.numeric( as.character( maleVsFemale12to18$pValue ) ), method = \"bonferroni\" )\n",
    "\n",
    "#save the results\n",
    "save( maleVsFemale12to18, file = \"maleVsFemale12to18.RData\" )"
   ]
  },
  {
   "cell_type": "code",
   "execution_count": null,
   "metadata": {
    "collapsed": false
   },
   "outputs": [],
   "source": [
    "# ASD females vs Non-ASD females #\n",
    "femaleNonASD$Caco <- \"nonASD\"\n",
    "femaleASD$Caco    <- \"ASD\"\n",
    "\n",
    "#apply the myComorbidityAnalysis function \n",
    "asdVSnonAS12to18  <- myComorbidityAnalysis( femaleAsdSet = femaleASD, \n",
    "                                        femaleNonAsdSet  = femaleNonASD, \n",
    "                                        caseSymbol       = \"ASD\", \n",
    "                                        controlSymbol    = \"nonASD\", \n",
    "                                        minAge           = 12,\n",
    "                                        maxAge           = 18,\n",
    "                                        minimunDiagnosis = 3 )\n",
    "\n",
    "asdVSnonAS12to18 <- asdVSnonAS12to18[ complete.cases( asdVSnonAS12to18 ), ]\n",
    "\n",
    "#apply the fisher test function\n",
    "fishers <- t( apply( asdVSnonAS12to18, 1,  get_fisher ) )\n",
    "colnames( fishers ) <- c( \"phecode\", \"pValue\", \"confIntL\", \"confIntH\", \"OR\" )\n",
    "asdVSnonAS12to18 <- merge( asdVSnonAS12to18, fishers, by = \"phecode\")\n",
    "\n",
    "#add the adjusted p-value\n",
    "asdVSnonAS12to18$pAdjust <- p.adjust( as.numeric( as.character( asdVSnonAS12to18$pValue ) ), method = \"bonferroni\" )\n",
    "\n",
    "#save the results\n",
    "save( asdVSnonAS12to18, file = \"asdVSnonAS12to18.RData\" )"
   ]
  },
  {
   "cell_type": "code",
   "execution_count": null,
   "metadata": {
    "collapsed": false
   },
   "outputs": [],
   "source": [
    "# non-ASD females vs non-ASD males #\n",
    "maleNonASD$Caco   <- \"male\"\n",
    "femaleNonASD$Caco <- \"female\"\n",
    "\n",
    "#apply the myComorbidityAnalysis function \n",
    "noasdmaleVsFemale12to18 <- myComorbidityAnalysis( femaleAsdSet = femaleNonASD, \n",
    "                                        femaleNonAsdSet  = maleNonASD, \n",
    "                                        minAge           = 12,\n",
    "                                        maxAge           = 18,\n",
    "                                        caseSymbol       = \"female\", \n",
    "                                        controlSymbol    = \"male\", \n",
    "                                        minimunDiagnosis = 3 )\n",
    "\n",
    "noasdmaleVsFemale12to18 <- noasdmaleVsFemale12to18[ complete.cases( noasdmaleVsFemale12to18 ), ]\n",
    "\n",
    "#apply the fisher test function\n",
    "fishers <- t( apply( noasdmaleVsFemale12to18, 1,  get_fisher ) )\n",
    "colnames(fishers) <- c( \"phecode\", \"pValue\", \"confIntL\", \"confIntH\", \"OR\" )\n",
    "noasdmaleVsFemale12to18 <- merge( noasdmaleVsFemale12to18, fishers, by = \"phecode\" )\n",
    "\n",
    "#add the adjusted p-value\n",
    "noasdmaleVsFemale12to18$pAdjust <- p.adjust( as.numeric( as.character( noasdmaleVsFemale12to18$pValue ) ), \n",
    "                                            method = \"bonferroni\" )\n",
    "\n",
    "#save the results\n",
    "save( noasdmaleVsFemale12to18, file = \"noasdmaleVsFemale12to18.RData\" )"
   ]
  }
 ],
 "metadata": {
  "kernelspec": {
   "display_name": "R",
   "language": "R",
   "name": "ir"
  },
  "language_info": {
   "codemirror_mode": "r",
   "file_extension": ".r",
   "mimetype": "text/x-r-source",
   "name": "R",
   "pygments_lexer": "r",
   "version": "3.3.1"
  }
 },
 "nbformat": 4,
 "nbformat_minor": 1
}
