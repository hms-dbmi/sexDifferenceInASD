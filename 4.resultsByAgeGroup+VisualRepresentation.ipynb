{
 "cells": [
  {
   "cell_type": "markdown",
   "metadata": {},
   "source": [
    "## Sex differences in Autism Spectrum Disorder, a Comorbidity Pattern Analysis in National Scale Data:  (iv) age comparison, visual representation"
   ]
  },
  {
   "cell_type": "markdown",
   "metadata": {},
   "source": [
    "As a result for our analysis, we will have a list of PheCodes that are more likely in ASD females in a specific age range. We analyzed 4 different age groups:\n",
    "- 0 to 2 years old\n",
    "- 3 to 5 years old\n",
    "- 6 to 11 years old\n",
    "- 12 to 18 years old\n",
    "\n",
    "In this last step, we will look for those PheCodes specific for each age range and which one are statistically significant in more than one group. \n",
    "\n",
    "We will use UpSetR (http://caleydo.org/tools/upset/).\n"
   ]
  },
  {
   "cell_type": "markdown",
   "metadata": {},
   "source": [
    "First, we install and load the UpSetR package. "
   ]
  },
  {
   "cell_type": "code",
   "execution_count": null,
   "metadata": {
    "collapsed": true
   },
   "outputs": [],
   "source": [
    "install.packages( \"UpSetR\" )\n",
    "library( UpSetR )"
   ]
  },
  {
   "cell_type": "markdown",
   "metadata": {},
   "source": [
    "Then, we load the results generated in 3.ComapreThreeGroupsResults"
   ]
  },
  {
   "cell_type": "code",
   "execution_count": null,
   "metadata": {
    "collapsed": true
   },
   "outputs": [],
   "source": [
    "load( \"from0to2.RData\" )\n",
    "load( \"from3to5.RData\" )\n",
    "load( \"from6to11.RData\" )\n",
    "load( \"from12to18.RData\" )"
   ]
  },
  {
   "cell_type": "markdown",
   "metadata": {},
   "source": [
    "Finally, we format the input as a list to apply the \"upset\" function in the following way: "
   ]
  },
  {
   "cell_type": "code",
   "execution_count": null,
   "metadata": {
    "collapsed": true
   },
   "outputs": [],
   "source": [
    "listInput <- list( From0to18  = c( from0to18$description ), \n",
    "                   From0to2   = c( from0to2$description ),  \n",
    "                   From3to5   = c( from3to5$description ), \n",
    "                   From6to11  = c( from6to11$description ), \n",
    "                   From12to18 = c( from12to18$description )\n",
    "                   )\n",
    "\n",
    "upset( fromList( listInput ), \n",
    "       order.by       = \"freq\", \n",
    "      mainbar.y.label = \"Phenotype Intersections\", \n",
    "      sets.x.label    = \"Stat.Sign. Phenotype Per Age Group\" )"
   ]
  }
 ],
 "metadata": {
  "kernelspec": {
   "display_name": "R",
   "language": "R",
   "name": "ir"
  },
  "language_info": {
   "codemirror_mode": "r",
   "file_extension": ".r",
   "mimetype": "text/x-r-source",
   "name": "R",
   "pygments_lexer": "r",
   "version": "3.3.1"
  }
 },
 "nbformat": 4,
 "nbformat_minor": 1
}
