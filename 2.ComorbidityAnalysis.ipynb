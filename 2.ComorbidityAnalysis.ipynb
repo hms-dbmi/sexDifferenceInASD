{
 "cells": [
  {
   "cell_type": "markdown",
   "metadata": {},
   "source": [
    "## Sex differences in Autism Spectrum Disorder, a Comorbidity Pattern Analysis in National Scale Data:  (ii) comorbidity analysis\n",
    "\n",
    "### Example: ASD females vs ASD males\n",
    "\n",
    "#### Extract the list of phenotypes present in the patients for this specific each group"
   ]
  },
  {
   "cell_type": "code",
   "execution_count": null,
   "metadata": {
    "collapsed": true
   },
   "outputs": [],
   "source": [
    "asdPhenotypesM <- dbGetQuery(cn,  \"\n",
    "           SELECT\n",
    "           DISTINCT  (PheCode)  FROM\n",
    "           ASDmales12to18Comorbidities\")\n",
    "\n",
    "asdPhenotypesF <- dbGetQuery(cn,  \"\n",
    "           SELECT\n",
    "           DISTINCT  (PheCode) FROM\n",
    "           ASDfem12to18Comorbidities\")"
   ]
  },
  {
   "cell_type": "markdown",
   "metadata": {},
   "source": [
    "#### Count times phecode assigned to each patient\n",
    "\n",
    "- Create a table where each row contains one of the phenotypes, and in the columns we will have the counts: how many patients present the phecode 3 or more times, how many present the phecode 1 or 2 times, and how many do not present the phecode.\n",
    "\n",
    "- To do this, we perform a query to count those patients directly to the table created in the database. "
   ]
  },
  {
   "cell_type": "code",
   "execution_count": null,
   "metadata": {
    "collapsed": true
   },
   "outputs": [],
   "source": [
    "totalPhewasCodes <- unique(c(asdPhenotypesF$PheCode,asdPhenotypesM$PheCode))\n",
    "myPhewasResults <- as.data.frame( matrix(ncol=7, nrow=length(totalPhewasCodes)))\n",
    "colnames( myPhewasResults ) <- c(\"phecode\", \"femYes\", \"femNo\", \"femExclude\", \"maleYes\", \"maleNo\", \"maleExclude\")\n",
    "myPhewasResults$phecode <- as.character( totalPhewasCodes )\n",
    "\n",
    "for(i in 1:nrow(myPhewasResults ) ){\n",
    "  print(i)\n",
    "  myPhewasResults$femYes[i] <- dbGetQuery(cn,  paste0(\"\n",
    "           SELECT COUNT ( DISTINCT  MemberId ) \n",
    "           FROM ASDfem12to18Comorbidities \n",
    "           WHERE PheCode = '\",\n",
    "           myPhewasResults$phecode[i],\"' AND Count >= 3\"))\n",
    "    \n",
    "  myPhewasResults$femExclude[i] <- dbGetQuery(cn,  paste0(\"\n",
    "           SELECT COUNT ( DISTINCT  MemberId ) \n",
    "           FROM ASDfem12to18Comorbidities \n",
    "           WHERE PheCode = '\",\n",
    "           myPhewasResults$phecode[i],\"' AND ( Count = 1 OR Count = 2) \"))\n",
    "\n",
    "  myPhewasResults$femNo[i] <- dbGetQuery(cn,\"\n",
    "           SELECT COUNT ( DISTINCT  MemberId ) \n",
    "           FROM ASDfem12to18Comorbidities \") - myPhewasResults$femExclude[i] -  myPhewasResults$femYes[i]\n",
    "  \n",
    "   myPhewasResults$maleYes[i] <- dbGetQuery(cn,  paste0(\"\n",
    "           SELECT COUNT ( DISTINCT  MemberId ) \n",
    "           FROM ASDmales12to18Comorbidities \n",
    "           WHERE PheCode = '\",\n",
    "           myPhewasResults$phecode[i],\"' AND Count >= 3\"))\n",
    "     \n",
    "     \n",
    "  myPhewasResults$maleExclude[i] <- dbGetQuery(cn,  paste0(\"\n",
    "           SELECT COUNT ( DISTINCT  MemberId ) \n",
    "           FROM ASDmales12to18Comorbidities \n",
    "           WHERE PheCode = '\",\n",
    "           myPhewasResults$phecode[i], \"' AND ( Count = 1 OR Count = 2) \"))\n",
    "    \n",
    "    myPhewasResults$maleNo[i] <-  dbGetQuery(cn,\"\n",
    "           SELECT COUNT ( DISTINCT  MemberId ) \n",
    "           FROM ASDmales12to18Comorbidities \") - myPhewasResults$maleExclude[i] -  myPhewasResults$maleYes[i]\n",
    "  \n",
    "}"
   ]
  },
  {
   "cell_type": "markdown",
   "metadata": {},
   "source": [
    "#### Statistically significant results \n",
    "\n",
    "- Once we have the table with all the counts, we perform a Fisher Exact Test for each phenotype and we look for the statistically significant results. "
   ]
  },
  {
   "cell_type": "code",
   "execution_count": null,
   "metadata": {
    "collapsed": true
   },
   "outputs": [],
   "source": [
    "get_fisher <- function(df){\n",
    "  mat <- matrix(as.numeric(unlist(df[c(2,3,5,6)])), ncol=2)\n",
    "  f <- fisher.test(as.table(mat), alt=\"two.sided\")\n",
    "  return(c(unlist(df[1]), f$p.value, f$conf.int, f$estimate))\n",
    "}\n",
    "\n",
    "fishers <- t(apply(myPhewasResults, 1,  get_fisher))\n",
    "colnames(fishers) <- c(\"phecode\", \"pValue\", \"confIntL\", \"confIntH\", \"OR\" )\n",
    "\n",
    "finalTable         <- merge( myPhewasResults, fishers, by = \"phecode\" )\n",
    "finalTable$pAdjust <- p.adjust( as.numeric( as.character( finalTable$pValue ) ), method = \"bonferroni\" ) \n",
    "finalTableStat     <- finalTable[ as.numeric( finalTable$pAdjust ) < 0.01, ]\n",
    "finalTableStat     <- finalTableStat[ as.numeric( as.character( finalTableStat$OR ) ) > 1.5 & \n",
    "                                     finalTableStat$OR != \"Inf\", ]"
   ]
  }
 ],
 "metadata": {
  "kernelspec": {
   "display_name": "R",
   "language": "R",
   "name": "ir"
  },
  "language_info": {
   "codemirror_mode": "r",
   "file_extension": ".r",
   "mimetype": "text/x-r-source",
   "name": "R",
   "pygments_lexer": "r",
   "version": "3.3.1"
  }
 },
 "nbformat": 4,
 "nbformat_minor": 1
}
