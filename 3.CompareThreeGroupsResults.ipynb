{
 "cells": [
  {
   "cell_type": "markdown",
   "metadata": {},
   "source": [
    "## Sex differences in Autism Spectrum Disorder, a Comorbidity Pattern Analysis in National Scale Data:  (iii) results comparison"
   ]
  },
  {
   "cell_type": "markdown",
   "metadata": {},
   "source": [
    "#### Results comparison\n",
    "We create function that allows us to select those PheCodes that are statistically significant and more likely in ASD females when comparing \"ASD females vs. ASD males\" and \"ASD females vs. females without ASD\" and that are not more likely in females without ASD when comparing \"females without ASD vs. males without ASD\"."
   ]
  },
  {
   "cell_type": "code",
   "execution_count": null,
   "metadata": {
    "collapsed": true
   },
   "outputs": [],
   "source": [
    "extractResults <- function( includeGroup1, includeGroup2, excludeGroup1, statSignificance, oddsRatio ){\n",
    "    \n",
    "    #include group 1\n",
    "    dataSet1 <- includeGroup1[ includeGroup1$pAdjust < statSignificance &\n",
    "                              as.numeric( as.character( includeGroup1$OR ) ) > oddsRatio & \n",
    "                              as.numeric( as.character( includeGroup1$OR ) ) != \"Inf\", ]\n",
    "    \n",
    "    print(paste0(\"Include group1 contains \", nrow( dataSet1), \" statistically significant phenotypes\" ) )\n",
    "    \n",
    "    #include group 2\n",
    "    dataSet2 <- includeGroup2[ includeGroup2$pAdjust < statSignificance &\n",
    "                              as.numeric( as.character( includeGroup2$OR ) ) > oddsRatio &\n",
    "                              as.numeric( as.character( includeGroup2$OR ) ) != \"Inf\", ]\n",
    "    \n",
    "    print(paste0(\"Include group2 contains \", nrow( dataSet2 ), \" statistically significant phenotypes\" ) )\n",
    "    \n",
    "    #exclude group\n",
    "    dataSetExclude1 <- excludeGroup1[ excludeGroup1$pAdjust < statSignificance & \n",
    "                                     as.numeric( as.character( excludeGroup1$OR ) ) > oddsRatio & \n",
    "                                     as.numeric( as.character( excludeGroup1$OR ) ) != \"Inf\", ]\n",
    "    \n",
    "    print(paste0(\"Control group 1 contains \", nrow( dataSetExclude1), \" statistically significant phenotypes\" ) )\n",
    "    \n",
    "    #look for phecodes in ASD females \n",
    "    excludePhenotypes <- dataSetExclude1$phecode\n",
    "    commonPhenos      <- dataSet1[ dataSet1$phecode %in% dataSet2$phecode, \"phecode\" ]\n",
    "    finalPhenos       <- commonPhenos[ ! commonPhenos %in% excludePhenotypes ]\n",
    "    \n",
    "    print(paste0(\"There are \", \n",
    "                 length( unique( finalPhenos ) ), \n",
    "                 \" statistically significant phenotypes ASD- female characteristics\"))\n",
    "  \n",
    "    #add the PheCode description of the selected PheCodes\n",
    "    #PheCode description and category extracted from https://phewascatalog.org/files/phecode_definitions1.2.csv.zip\n",
    "    pheinfoComplete <- read.csv( \"phecode_definitions1.2.csv\")\n",
    "    pheinfoComplete <- pheinfoComplete[ , c( \"phecode\", \"phenotype\", \"category\" ) ]\n",
    "    colnames( pheinfoComplete ) <- c( \"phecode\", \"description\", \"group\" )\n",
    "    \n",
    "    # for the PheCodes of interest, select the OR and p-value from the include group 1\n",
    "    finalResults1 <- dataSet1[ dataSet1$phecode %in% finalPhenos, c(\"phecode\", \"OR\", \"pAdjust\")]\n",
    "    colnames(finalResults1) <- c(\"phecode\", \"Gender_OR\", \"Gender_pvalue\")\n",
    "    \n",
    "    # for the PheCodes of interest, select the OR and p-value from the include group 2\n",
    "    finalResults2 <- dataSet2[ dataSet2$phecode %in% finalPhenos, c(\"phecode\", \"OR\", \"pAdjust\")]\n",
    "    \n",
    "    # merge both data.frames to create a final one with both results\n",
    "    finalResults <- merge(finalResults1, finalResults2)\n",
    "    finalResults <- merge( finalResults, pheinfoComplete)\n",
    "    finalResults <- finalResults[, c( \"group\", \"description\",\"Gender_OR\", \"Gender_pvalue\", \"OR\", \"pAdjust\", \"phecode\" )]\n",
    "    \n",
    "    return( finalResults)\n",
    "\n",
    "}"
   ]
  },
  {
   "cell_type": "markdown",
   "metadata": {},
   "source": [
    "Apply the previous function to extract the PheCodes for one of the age groups, for example, from 12 to 18 years old.\n",
    "- First we load the result data obtained (Notebook 2.ComorbidityAnalysis)\n",
    "- Then we apply the \"extractResults\" function "
   ]
  },
  {
   "cell_type": "code",
   "execution_count": null,
   "metadata": {
    "collapsed": true
   },
   "outputs": [],
   "source": [
    "load(\"phewasResultASD12to18.RData\")\n",
    "ASD12to18 <- finalTable\n",
    "rm(finalTable)\n",
    "load(\"phewasResultNonASD12to18.RData\")\n",
    "nonASD12to18 <- finalTable\n",
    "rm(finalTable)\n",
    "load(\"phewasResultFemaleCompare12to18.RData\")\n",
    "femalesCompare <- finalTable\n",
    "rm(finalTable)"
   ]
  },
  {
   "cell_type": "code",
   "execution_count": null,
   "metadata": {
    "collapsed": true
   },
   "outputs": [],
   "source": [
    "from12to18 <- extractResults( includeGroup1 = ASD12to18,\n",
    "                              includeGroup2 = femalesCompare,\n",
    "                              excludeGroup1 = nonASD12to18,\n",
    "                              statSignificance = 0.01,\n",
    "                              oddsRatio = 1.5)\n",
    "\n",
    "save( from12to18, file = \"from12to18.RData\")"
   ]
  }
 ],
 "metadata": {
  "kernelspec": {
   "display_name": "R",
   "language": "R",
   "name": "ir"
  },
  "language_info": {
   "codemirror_mode": "r",
   "file_extension": ".r",
   "mimetype": "text/x-r-source",
   "name": "R",
   "pygments_lexer": "r",
   "version": "3.3.1"
  }
 },
 "nbformat": 4,
 "nbformat_minor": 1
}
