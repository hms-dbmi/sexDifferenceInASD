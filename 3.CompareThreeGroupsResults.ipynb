{
 "cells": [
  {
   "cell_type": "markdown",
   "metadata": {},
   "source": [
    "## Sex differences in Autism Spectrum Disorder, a Comorbidity Pattern Analysis in National Scale Data:  (iii) results comparison"
   ]
  },
  {
   "cell_type": "markdown",
   "metadata": {},
   "source": [
    "#### Results comparison\n",
    "We create function that allows us to select those PheCodes that are statistically significant and more likely in ASD females when comparing \"ASD females vs. ASD males\" and \"ASD females vs. females without ASD\" and that are not more likely in females without ASD when comparing \"females without ASD vs. males without ASD\"."
   ]
  },
  {
   "cell_type": "code",
   "execution_count": null,
   "metadata": {
    "collapsed": true
   },
   "outputs": [],
   "source": [
    "createCompleteTable <- function( includeGroup1, includeGroup2, \n",
    "                                 excludeGroup1,\n",
    "                                 statSignificance, oddsRatio, ageGroup, \n",
    "                                 extractExcluded = FALSE){\n",
    "  \n",
    "  dataSet1 <- includeGroup1[ includeGroup1$pAdjust < statSignificance &\n",
    "                               as.numeric(as.character(includeGroup1$OR)) > \n",
    "                            oddsRatio & as.numeric(as.character(includeGroup1$OR)) != \"Inf\", ]\n",
    "  print(paste0(\"Include group1 contains \", nrow( dataSet1), \" statistically significant phenotypes\"))\n",
    "  \n",
    "  dataSet2 <- includeGroup2[ includeGroup2$pAdjust < statSignificance &\n",
    "                               as.numeric(as.character(includeGroup2$OR)) > \n",
    "                            oddsRatio & as.numeric(as.character(includeGroup2$OR)) != \"Inf\", ]\n",
    "  print(paste0(\"Include group2 contains \", nrow( dataSet2), \" statistically significant phenotypes\"))\n",
    "  \n",
    "  dataSetExclude1 <- excludeGroup1[ excludeGroup1$pAdjust < statSignificance & \n",
    "                                   as.numeric(as.character(excludeGroup1$OR)) > \n",
    "                                   oddsRatio & as.numeric(as.character(excludeGroup1$OR)) != \"Inf\", ]\n",
    "  \n",
    "  print(paste0(\"Control group 1 contains \", nrow( dataSetExclude1), \" statistically significant phenotypes\"))\n",
    "  \n",
    "  \n",
    "  excludePhenotypes <- dataSetExclude1$phecode\n",
    "  \n",
    "  commonPhenos <- dataSet1[ dataSet1$phecode %in% dataSet2$phecode, \"phecode\"]\n",
    "  finalPhenos <- commonPhenos[! commonPhenos %in% excludePhenotypes ]\n",
    "  \n",
    "  print(paste0(\"There are \", length( unique( finalPhenos )), \" statistically significant phenotypes ASD- female characteristics\"))\n",
    "  \n",
    "  if( extractExcluded == TRUE ){\n",
    "    exclusion <- excludePhenotypes[ excludePhenotypes %in% commonPhenos ]\n",
    "    load(\"pheinfoComplete.rdata\")\n",
    "    pheinfoComplete <- pheinfoComplete[ , c(\"phecode\", \"description\", \"group\")]\n",
    "    excluded <- pheinfoComplete[ pheinfoComplete$phecode %in% exclusion, ] \n",
    "    \n",
    "    return(excluded)\n",
    "    end()\n",
    "  }\n",
    "  \n",
    "  load(\"pheinfoComplete.rdata\")\n",
    "  pheinfoComplete <- pheinfoComplete[ , c(\"phecode\", \"description\", \"group\")]\n",
    "  \n",
    "  \n",
    "  dataSet1$phenoPresent <- paste0( dataSet1$femYes + dataSet1$maleYes, \"(\", dataSet1$femYes, \"/\", dataSet1$maleYes, \")\")\n",
    "  dataSet1$phenoAbsent <- paste0( dataSet1$femNo + dataSet1$maleNo, \"(\", dataSet1$femNo, \"/\", dataSet1$maleNo, \")\")\n",
    "  dataSet1$phenoExclude <- paste0( dataSet1$femExclude + dataSet1$maleExclude, \"(\", dataSet1$femExclude, \"/\", dataSet1$maleExclude, \")\")\n",
    "  dataSet1$ci <- paste0( \"(\", round(as.numeric(as.character(dataSet1$confIntL)), 3), \", \", round(as.numeric(as.character(dataSet1$confIntH)), 3), \")\")\n",
    "  dataSet1$OR <- round(as.numeric(as.character(dataSet1$OR)), 3)\n",
    "  \n",
    "  finalResults1 <- dataSet1[ dataSet1$phecode %in% finalPhenos, \n",
    "                            c(\"phecode\", \"OR\", \"ci\" ,\"pAdjust\",\"phenoPresent\", \"phenoAbsent\", \"phenoExclude\")]\n",
    "  colnames(finalResults1) <- c(\"phecode\", \"Gender_OR\", \"Gender_ci\" ,\"Gender_adjPvalue\",\"Gender_phenoPresent\", \"Gender_phenoAbsent\", \"Gender_phenoExclude\")\n",
    "  \n",
    "  dataSet2$phenoPresent <- paste0( as.numeric(dataSet2$femYes) + as.numeric(dataSet2$controlFemaleYes), \"(\", as.numeric(dataSet2$femYes), \"/\", as.numeric(dataSet2$controlFemaleYes), \")\")\n",
    "  dataSet2$phenoAbsent <- paste0( as.numeric(dataSet2$femNo) + as.numeric(dataSet2$controlFemaleNo), \"(\", as.numeric(dataSet2$femNo), \"/\", as.numeric(dataSet2$controlFemaleNo), \")\")\n",
    "  dataSet2$phenoExclude <- paste0( as.numeric(dataSet2$femExclude) + as.numeric(dataSet2$controlFemaleExclude), \"(\", as.numeric(dataSet2$femExclude), \"/\", as.numeric(dataSet2$controlFemaleExclude), \")\")\n",
    "  dataSet2$ci <- paste0( \"(\", round(as.numeric(as.character(dataSet2$confIntL)), 3), \", \", round(as.numeric(as.character(dataSet2$confIntH)), 3), \")\")\n",
    "  dataSet2$OR <- round(as.numeric(as.character(dataSet2$OR)), 3)\n",
    "  \n",
    "  finalResults2 <- dataSet2[ dataSet2$phecode %in% finalPhenos, \n",
    "                            c(\"phecode\", \"OR\", \"ci\", \"pAdjust\" ,\"phenoPresent\", \"phenoAbsent\", \"phenoExclude\")]\n",
    "  colnames(finalResults2) <- c(\"phecode\", \"Dis_OR\", \"Dis_ci\" , \"Dis_adjPvalue\",\"Dis_phenoPresent\", \"Dis_phenoAbsent\", \"Dis_phenoExclude\")\n",
    "  \n",
    "  finalResults <- merge(finalResults1, finalResults2)\n",
    "  finalResults <- merge( finalResults, pheinfoComplete)\n",
    "  finalResults$ageGroup <- ageGroup\n",
    "  finalResults <- finalResults[, c(\"ageGroup\",\"group\", \"description\", \"Gender_OR\", \"Gender_ci\",\"Gender_adjPvalue\" ,\"Gender_phenoPresent\", \"Gender_phenoAbsent\", \"Gender_phenoExclude\", \"Dis_OR\", \"Dis_ci\", \"Dis_adjPvalue\" ,\"Dis_phenoPresent\", \"Dis_phenoAbsent\", \"Dis_phenoExclude\" )]\n",
    "  \n",
    "  finalResults <- finalResults[ order(finalResults$Gender_OR, decreasing = TRUE), ]\n",
    "  return( finalResults)\n",
    "  \n",
    "}"
   ]
  },
  {
   "cell_type": "markdown",
   "metadata": {},
   "source": [
    "Apply the previous function to extract the PheCodes for one of the age groups, for example, from 12 to 18 years old.\n",
    "- First we load the result data obtained (Notebook 2.ComorbidityAnalysis)\n",
    "- Then we apply the \"createCompleteTable\" function "
   ]
  },
  {
   "cell_type": "code",
   "execution_count": null,
   "metadata": {
    "collapsed": true
   },
   "outputs": [],
   "source": [
    "load(\"phewasResultASD12to18.RData\")\n",
    "ASD12to18 <- finalTable\n",
    "rm(finalTable)\n",
    "load(\"phewasResultNonASD12to18.RData\")\n",
    "nonASD12to18 <- finalTable\n",
    "rm(finalTable)\n",
    "load(\"phewasResultFemaleCompare12to18.RData\")\n",
    "femalesCompare <- finalTable\n",
    "rm(finalTable)"
   ]
  },
  {
   "cell_type": "code",
   "execution_count": null,
   "metadata": {
    "collapsed": true
   },
   "outputs": [],
   "source": [
    "from12to18 <- createCompleteTable( includeGroup1 = ASD12to18,\n",
    "                              includeGroup2 = femalesCompare,\n",
    "                              excludeGroup1 = nonASD12to18,\n",
    "                              statSignificance = 0.01,\n",
    "                              oddsRatio = 1.5)\n",
    "\n",
    "save( from12to18, file = \"from12to18.RData\")"
   ]
  },
  {
   "cell_type": "markdown",
   "metadata": {},
   "source": [
    "The \"createCompleteTable\" function also allows us to extract those phenotype categories that were excluded because although being statistically significant and with OR > 1.5 when comparing ASD females vs ASD males, and when comparing ASD females vs non-ASD females, they were also significant in non ASD females vs non ASD males. To extract the excluded phenotypes, we need to set up the argument \"extractExcluded\"to TRUE. "
   ]
  },
  {
   "cell_type": "code",
   "execution_count": null,
   "metadata": {},
   "outputs": [],
   "source": [
    "createCompleteTable( includeGroup1 = ASD0to2,\n",
    "                     includeGroup2 = femalesCompare,\n",
    "                     excludeGroup1 = nonASD0to2,\n",
    "                     statSignificance = 0.01,\n",
    "                     oddsRatio = 1.5, \n",
    "                     ageGroup  = \"0 to 2\", \n",
    "                     extractExcluded = TRUE)"
   ]
  }
 ],
 "metadata": {
  "kernelspec": {
   "display_name": "R",
   "language": "R",
   "name": "ir"
  },
  "language_info": {
   "codemirror_mode": "r",
   "file_extension": ".r",
   "mimetype": "text/x-r-source",
   "name": "R",
   "pygments_lexer": "r",
   "version": "3.3.1"
  }
 },
 "nbformat": 4,
 "nbformat_minor": 1
}
