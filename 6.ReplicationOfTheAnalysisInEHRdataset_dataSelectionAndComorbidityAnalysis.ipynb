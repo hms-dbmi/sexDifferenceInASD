{
 "cells": [
  {
   "cell_type": "markdown",
   "metadata": {},
   "source": [
    "# Sex differences in Autism Spectrum Disorder, a Comorbidity Pattern Analysis in National Scale Data: validation in electronic health record data\n",
    "\n",
    "## Load the libraries"
   ]
  },
  {
   "cell_type": "code",
   "execution_count": 3,
   "metadata": {},
   "outputs": [],
   "source": [
    "library( \"RJDBC\" )\n",
    "library( \"knitr\" )\n",
    "library( \"dplyr\" )\n",
    "library( \"tidyr\" )\n",
    "library(\"lubridate\")"
   ]
  },
  {
   "cell_type": "markdown",
   "metadata": {},
   "source": [
    "## Set up the DB server connection"
   ]
  },
  {
   "cell_type": "code",
   "execution_count": null,
   "metadata": {
    "collapsed": true
   },
   "outputs": [],
   "source": [
    "connectToDB <- function( driverClss, classPth, usr, psw, outputPath, verbose = FALSE ){\n",
    "    \n",
    "    drv <- RJDBC::JDBC( driverClass = driverClss , \n",
    "                        classPath   = classPth )\n",
    "    \n",
    "    conn <<- RJDBC::dbConnect( drv, srv, usr, psw )\n",
    "  \n",
    "}\n",
    "\n",
    "connectToDB(\n",
    "  driverClss  = XXXX,\n",
    "  classPth    = XXXX,\n",
    "  usr         = XXXX,\n",
    "  psw         = XXXX,\n",
    "  outputPath  = XXXX\n",
    ")"
   ]
  },
  {
   "cell_type": "markdown",
   "metadata": {},
   "source": [
    "## Patient selection \n",
    "Select those patients with at ICD9-CM information. "
   ]
  },
  {
   "cell_type": "code",
   "execution_count": null,
   "metadata": {
    "collapsed": true
   },
   "outputs": [],
   "source": [
    "icd9Patients <- dbGetQuery( conn, \"SELECT PATIENT_NUM, START_DATE, CONCEPT_CD \n",
    "                                   FROM OBS_FACT \n",
    "                                   WHERE CONCEPT_CD LIKE 'ICD9:%'\" )\n"
   ]
  },
  {
   "cell_type": "markdown",
   "metadata": {},
   "source": [
    "### Remove those patients that could be in the claim database\n",
    "To guarante that the two sets analyzed are completely independent we remove those patients from the electronic health record database that could be potentially in the claim database. To do this we look for those concepts that contain the name of the claim database, and remove those patients that have associated those Concepts identifiers. "
   ]
  },
  {
   "cell_type": "code",
   "execution_count": null,
   "metadata": {
    "collapsed": true
   },
   "outputs": [],
   "source": [
    "mydataselection <- dbGetQuery(conn, \"SELECT PATIENT_NUM,SEX_CD,BIRTH_DATE \n",
    "                                     FROM PATIENT_DIM\n",
    "                                     WHERE PATIENT_NUM \n",
    "                                     NOT IN (SELECT distinct PATIENT_NUM  \n",
    "                                             FROM OBS_FACT \n",
    "                                             WHERE CONCEPT_CD IN  ('INS:4325','INS:2','INS:3','INS:7070','INS:4100'))\")"
   ]
  },
  {
   "cell_type": "markdown",
   "metadata": {},
   "source": [
    "Merge both data sets, to have all the information (patient identifier, sex, birth date, start date and ICD code) for the selected patients. "
   ]
  },
  {
   "cell_type": "code",
   "execution_count": null,
   "metadata": {
    "collapsed": true
   },
   "outputs": [],
   "source": [
    "dataSet <- inner_join( mydataselection, icd9Patients, by = \"PATIENT_NUM\" )      \n",
    "\n",
    "#SELECT distinct PATIENT_NUM FROM ASD_GI.OBSERVATION_FACT \n",
    "# WHERE CONCEPT_CD IN ('ICD9:299.0','ICD9:299.01','ICD9:299.00','ICD9:299.80','ICD9:299.8','ICD9:299.81','ICD9:299.9','ICD9:299.90','ICD9:299.91');"
   ]
  },
  {
   "cell_type": "markdown",
   "metadata": {},
   "source": [
    "Select those diagnoses done from January 1st 2008. "
   ]
  },
  {
   "cell_type": "code",
   "execution_count": null,
   "metadata": {},
   "outputs": [],
   "source": [
    "dataSet <- dataSet[ dataSet$START_DATE >= '2008-01-01', ]"
   ]
  },
  {
   "cell_type": "markdown",
   "metadata": {},
   "source": [
    "Select those patients diagnosed with ASD from 0 to 18 years old.\n"
   ]
  },
  {
   "cell_type": "code",
   "execution_count": null,
   "metadata": {
    "collapsed": true
   },
   "outputs": [],
   "source": [
    "dataSet$Age <- floor( as.numeric( ( as.Date( dataSet$START_DATE ) - as.Date( dataSet$BIRTH_DATE ) ) )/ 365 )\n",
    "dataSet     <- dataSet[ dataSet$Age >= 0 & dataSet$Age <= 18, ]"
   ]
  },
  {
   "cell_type": "markdown",
   "metadata": {},
   "source": [
    "From those, select the patients with a coverage of 12 months between 0 to 18 years old."
   ]
  },
  {
   "cell_type": "code",
   "execution_count": null,
   "metadata": {
    "collapsed": true
   },
   "outputs": [],
   "source": [
    "#estimate the months of information\n",
    "dataSet$monthsOfInformation <- paste0( sapply( \n",
    "                                        strsplit( as.character( dataSet$START_DATE ), \"-\" ) , '[', 1 ), \"-\", \n",
    "                                        sapply( strsplit( as.character( dataSet$START_DATE ), \"-\" ), '[', 2 ) )\n",
    "monthsOfInfo <- dataSet[, c(\"PATIENT_NUM\", \"monthsOfInformation\")]\n",
    "monthsOfInfo <- monthsOfInfo[!duplicated( monthsOfInfo), ]\n",
    "months <- as.data.frame( table( monthsOfInfo$PATIENT_NUM ) )\n",
    "selection <-months[ months$Freq > 12, \"Var1\"]\n",
    "\n",
    "\n",
    "#select those patients with at least 12 months of information\n",
    "dataSet <- dataSet[ dataSet$PATIENT_NUM %in% selection ]"
   ]
  },
  {
   "cell_type": "markdown",
   "metadata": {},
   "source": [
    "Generate two different data sets, one with those patients with Autism Spectrum Disorder ICD9-CM codes (ASD patients) and another one with those patients without ASD. "
   ]
  },
  {
   "cell_type": "code",
   "execution_count": null,
   "metadata": {
    "collapsed": true
   },
   "outputs": [],
   "source": [
    "autismIcd9codes <- c( '299.0', '299.00', '299.01', '299.8', '299.80', '299.81', '299.9', '299.90', '299.91' )\n",
    "asdPatients <- dataSet[ dataSet$CONCEPT_CD %in% autismIcd9codes, \"PATIENT_NUM\"]\n",
    "\n",
    "AsdData   <- dataSet[ dataSet$PATIENT_NUM %in% asdPatients, ]\n",
    "noAsdData <- dataSet[ ! dataSet$PATIENT_NUM %in% asdPatients, ] "
   ]
  },
  {
   "cell_type": "markdown",
   "metadata": {},
   "source": [
    "## Patients with ASD: group generation\n",
    "Select patients diganosed at least 3 different times with an ASD ICD9-CM code "
   ]
  },
  {
   "cell_type": "code",
   "execution_count": null,
   "metadata": {},
   "outputs": [],
   "source": [
    "asdBch3diag <- AsdData[ AsdData$code %in% autismIcd9codes, c(\"PATIENT_NUM\", \"START_DATE\" )]\n",
    "asdBch3diag <- asdBch3diag[! duplicated( asdBch3diag ), ]\n",
    "asdBch3diag <- as.data.frame( table( asdBch3diag$PATIENT_NUM ) )\n",
    "asdBch3diag <- asdBch3diag[ asdBch3diag$Freq >= 3, ]\n",
    "\n",
    "ASD <- bchRawData[ AsdData$PATIENT_NUM %in% asdBch3diag$Var1, ]\n",
    "length(unique(ASD$PATIENT_NUM))"
   ]
  },
  {
   "cell_type": "markdown",
   "metadata": {},
   "source": [
    "Generate two sets, one for ASD females and another one for ASD males. "
   ]
  },
  {
   "cell_type": "code",
   "execution_count": null,
   "metadata": {
    "collapsed": true
   },
   "outputs": [],
   "source": [
    "femaleASD <- ASD[ ASD$SEX_CD == \"F\",  c( \"PATIENT_NUM\", \"code\", \"START_DATE\", \"SEX_CD\", \"BIRTH_DATE\", \"age\" ) ]\n",
    "maleASD   <- ASD[ ASD$SEX_CD == \"M\",  c( \"PATIENT_NUM\", \"code\", \"START_DATE\", \"SEX_CD\", \"BIRTH_DATE\", \"age\" ) ]\n",
    "\n",
    "colnames( femaleASD ) <- c( \"MemberId\", \"Icd\", \"DateServiceStarted\", \"Gender\", \"BirthYear\", \"age\")\n",
    "colnames( maleASD )   <- c( \"MemberId\", \"Icd\", \"DateServiceStarted\", \"Gender\", \"BirthYear\", \"age\")\n",
    "\n",
    "femaleASD$Caco <- \"Female\"\n",
    "maleASD$Caco   <- \"Male\""
   ]
  },
  {
   "cell_type": "markdown",
   "metadata": {},
   "source": [
    "## Patients without ASD: group generation\n",
    "Generate two sets, one for females without ASD and another one for males without ASD"
   ]
  },
  {
   "cell_type": "code",
   "execution_count": null,
   "metadata": {
    "collapsed": true
   },
   "outputs": [],
   "source": [
    "femaleNonASD <- noAsDBch[ noAsdData$SEX_CD == \"F\", \n",
    "                           c(\"PATIENT_NUM\", \"CONCEPT_CD\",\"START_DATE\", \"SEX_CD\", \"BIRTH_DATE\", \"Age\")]\n",
    "maleNonASD <- noAsdData[ noAsdData$SEX_CD == \"M\", \n",
    "                           c(\"PATIENT_NUM\", \"CONCEPT_CD\",\"START_DATE\", \"SEX_CD\", \"BIRTH_DATE\", \"Age\")]\n",
    "\n",
    "#reformat the ICD codes properly (ICD:XXX to XXX)\n",
    "femaleNonASD$CONCEPT_CD <- sapply(strsplit( as.character( femaleNonASD$CONCEPT_CD ), \"[:]\"), '[', 2 )\n",
    "maleNonASD$CONCEPT_CD   <- sapply(strsplit( as.character( maleNonASD$CONCEPT_CD ), \"[:]\" ), '[', 2 )\n",
    " \n",
    "#re-name the column names\n",
    "colnames( femaleNonASD ) <- c( \"MemberId\", \"Icd\",\"DateServiceStarted\", \"Gender\", \"BirthYear\", \"age\" )\n",
    "colnames( maleNonASD )   <- c( \"MemberId\", \"Icd\",\"DateServiceStarted\", \"Gender\", \"BirthYear\", \"age\" )\n",
    "\n",
    "maleNonASD$Caco   <- \"MaleNonASD\"\n",
    "femaleNonASD$Caco <- \"FemaleNonASD\""
   ]
  },
  {
   "cell_type": "markdown",
   "metadata": {},
   "source": [
    "## Comorbidity analysis\n",
    "We create a function, that we called \"comorbidityAnalysis\" that allow us to run the comorbidity analysis having as input:\n",
    "- two groups to compare: cases and controls\n",
    "- the age range\n",
    "- a symbol to define/identify cases and controls\n",
    "- the minimum number of times of diagnosis to consider a patient having a phenotype\n",
    "\n",
    "As an output it generates a data frame, with one PheWAS code per row, and the number of cases and controls having or not the phecode. It also shows the p-value (corrected by bonferroni), the confidence interval and the odds ratio. "
   ]
  },
  {
   "cell_type": "code",
   "execution_count": 5,
   "metadata": {
    "collapsed": true
   },
   "outputs": [],
   "source": [
    "comorbidityAnalysis <- function( cases, controls, minAge, maxAge, casesSymbol, controlsSymbol, minimunDiagnosis = 3){\n",
    "    \n",
    "    myCompleteData <- rbind( cases, controls )\n",
    "  \n",
    "    #select diagnostics in the age range\n",
    "    myCompleteData <- myCompleteData[ myCompleteData$age >= minAge &\n",
    "                                      myCompleteData$age <= maxAge, ]\n",
    "    \n",
    "    #map from the ICD9-CM to the PheWAS category\n",
    "    if(! \"Phenotype\" %in% colnames( myCompleteData ) ){\n",
    "        \n",
    "        phemapFile <- read.csv( \"phecode_icd9_rolled.csv\", header =TRUE, colClasses = \"character\" )\n",
    "        phemapFile <- phemapFile[, c( \"ICD9\", \"PheCode\") ]\n",
    "        colnames( phemapFile ) <- c( \"Icd\", \"Phenotype\")\n",
    "        \n",
    "        myCompleteDataFinal <- inner_join( myCompleteData, phemapFile, by = \"Icd\" )\n",
    "        rm( myCompleteData )\n",
    "    }else{\n",
    "        myCompleteDataFinal <- myCompleteData\n",
    "        rm( myCompleteData )\n",
    "    }\n",
    " \n",
    "    \n",
    "    #remove males with females ASD diagnosis\n",
    "    message( \"Remove males with females ASD diagnosis ...\" )\n",
    "    sexSpecificPheCodes    <- read.csv(\"phecode_definitions1.2.csv\", header = TRUE, colClasses = \"character\" )\n",
    "    femaleSpecificPheCodes <- sexSpecificPheCodes[ sexSpecificPheCodes$sex == \"Female\", ]\n",
    "    maleSpecificPheCodes   <- sexSpecificPheCodes[ sexSpecificPheCodes$sex == \"Male\", ]\n",
    "    \n",
    "    #remove females with males ASD diagnosis and viceversa\n",
    "    message( \"Remove females with males ASD diagnosis ...\" )\n",
    "    femaleDiagnosisError <- myCompleteDataFinal[ myCompleteDataFinal$Phenotype %in% maleSpecificPheCodes$jd_code & \n",
    "                                                 myCompleteDataFinal$Gender == \"F\", ]\n",
    "\n",
    "    myCompleteDataFinal <- myCompleteDataFinal[ ! myCompleteDataFinal$MemberId %in% femaleDiagnosisError$MemberId, ]\n",
    "    \n",
    "    message( paste0( \"Total number of patients in the data set\", length( unique( myCompleteDataFinal$MemberId ) ) ) )\n",
    "    message( paste0( \"Total number of cases: \", \n",
    "                    length( unique( myCompleteDataFinal[ tolower( myCompleteDataFinal$Caco ) == \n",
    "                                                         tolower( casesSymbol ), \"MemberId\" ] ) ) ) )\n",
    "    message( paste0( \"Total number of controls: \", \n",
    "                    length( unique( myCompleteDataFinal[ tolower( myCompleteDataFinal$Caco ) == \n",
    "                                                        tolower( controlsSymbol ), \"MemberId\"] ) ) ) )\n",
    "    \n",
    "    # PheWAS phenotype dataframe: id, phewasCode and counts #\n",
    "    message(\"Generating the file containing patient identifier, phewas code and counts ...\")\n",
    "    phenotypeSubset <- myCompleteDataFinal[, c( \"MemberId\", \"Phenotype\", \"DateServiceStarted\" ) ]\n",
    "    phenotypeSubset <- phenotypeSubset[! duplicated( phenotypeSubset ), ]\n",
    "    phenotype <- phenotypeSubset[, c( \"MemberId\", \"Phenotype\" ) ]\n",
    "    colnames( phenotype ) <- c( \"patientId\", \"phecode\" )\n",
    "  \n",
    "    phenotype$pair <- paste( phenotype$patientId, phenotype$phecode, sep = \"*\" )\n",
    "    counts <- as.data.frame( table( phenotype$pair ) )\n",
    "    colnames( counts ) <- c(\"pair\", \"counts\")\n",
    "  \n",
    "    phenotypeFinal <- inner_join( phenotype, counts, by = \"pair\" )\n",
    "    phenotypeFinal <- phenotypeFinal[! duplicated(phenotypeFinal), c(\"patientId\", \"phecode\", \"counts\")]\n",
    "    \n",
    "    caco <- myCompleteDataFinal[ , c(\"MemberId\", \"Caco\")]\n",
    "    colnames( caco ) <- c(\"patientId\", \"Caco\")\n",
    "    caco <- caco[!duplicated(caco), ]\n",
    "    finaleSet4ComorbidityAnalysis <- inner_join( phenotypeFinal, caco )\n",
    "    \n",
    "    #create a table to save for each phenotype the patients having or not the phecode\n",
    "    totalPhewasCodes <- unique( finaleSet4ComorbidityAnalysis$phecode )\n",
    "    myPhewasResults <- as.data.frame( matrix(ncol=7, nrow=length(totalPhewasCodes)))\n",
    "    colnames( myPhewasResults ) <- c( \"phecode\", \"caseYes\", \"caseNo\", \"caseExclude\", \n",
    "                                      \"controlYes\", \"controlNo\", \"controlExclude\" )\n",
    "    \n",
    "    myPhewasResults$phecode <- as.character( totalPhewasCodes )\n",
    "\n",
    "    for(i in 1:nrow(myPhewasResults ) ){\n",
    "      #print(i)\n",
    "      myPhewasResults$caseYes[i] <- length(unique(finaleSet4ComorbidityAnalysis[ finaleSet4ComorbidityAnalysis$phecode == myPhewasResults$phecode[i] &\n",
    "                                                                tolower(finaleSet4ComorbidityAnalysis$Caco) == tolower(casesSymbol) &\n",
    "                                                                finaleSet4ComorbidityAnalysis$counts >= minimunDiagnosis, \"patientId\"]))\n",
    "\n",
    "      myPhewasResults$caseExclude[i] <- length(unique(finaleSet4ComorbidityAnalysis[ finaleSet4ComorbidityAnalysis$phecode == myPhewasResults$phecode[i] &\n",
    "                                                                tolower(finaleSet4ComorbidityAnalysis$Caco) == tolower(casesSymbol) &\n",
    "                                                                finaleSet4ComorbidityAnalysis$counts < minimunDiagnosis, \"patientId\"]))\n",
    "\n",
    "\n",
    "      myPhewasResults$caseNo[i] <- length(unique(finaleSet4ComorbidityAnalysis[tolower(finaleSet4ComorbidityAnalysis$Caco) == tolower(casesSymbol), \"patientId\"])) - myPhewasResults$caseExclude[i] - myPhewasResults$caseYes[i]\n",
    "\n",
    "       \n",
    "        \n",
    "      myPhewasResults$controlYes[i] <- length(unique(finaleSet4ComorbidityAnalysis[ finaleSet4ComorbidityAnalysis$phecode == myPhewasResults$phecode[i] &\n",
    "                                                                tolower(finaleSet4ComorbidityAnalysis$Caco) == tolower(controlsSymbol) &\n",
    "                                                                finaleSet4ComorbidityAnalysis$counts >= minimunDiagnosis, \"patientId\"]))\n",
    "\n",
    "      myPhewasResults$controlExclude[i] <- length(unique(finaleSet4ComorbidityAnalysis[ finaleSet4ComorbidityAnalysis$phecode == myPhewasResults$phecode[i] &\n",
    "                                                                tolower(finaleSet4ComorbidityAnalysis$Caco) == tolower(controlsSymbol) &\n",
    "                                                                finaleSet4ComorbidityAnalysis$counts < minimunDiagnosis, \"patientId\"]))\n",
    "\n",
    "\n",
    "      myPhewasResults$controlNo[i] <- length(unique(finaleSet4ComorbidityAnalysis[tolower(finaleSet4ComorbidityAnalysis$Caco) == tolower(controlsSymbol), \"patientId\"]))- myPhewasResults$controlExclude[i] -  myPhewasResults$controlYes[i]\n",
    "       \n",
    "    }\n",
    "    \n",
    "    #create a function to perform a fisher test and extract the p-value, confidence interval and OR\n",
    "    get_fisher <- function(df){\n",
    "      mat <- matrix(as.numeric(unlist(df[c(2,3,5,6)])), ncol=2)\n",
    "      f <- fisher.test(as.table(mat), alt=\"two.sided\")\n",
    "      return(c(unlist(df[1]), f$p.value, f$conf.int, f$estimate))\n",
    "    }\n",
    "\n",
    "    #apply the function to the whole table\n",
    "    fishers <- t(apply(myPhewasResults, 1,  get_fisher))\n",
    "    colnames(fishers) <- c(\"phecode\", \"pValue\", \"confIntL\", \"confIntH\", \"OR\" )\n",
    "\n",
    "    #adjust the p-value by bonferroni\n",
    "    finalTable         <- merge( myPhewasResults, fishers, by = \"phecode\" )\n",
    "    finalTable$pAdjust <- p.adjust( as.numeric( as.character( finalTable$pValue ) ), method = \"bonferroni\" ) \n",
    "    \n",
    "    return( finalTable )\n",
    "}"
   ]
  },
  {
   "cell_type": "markdown",
   "metadata": {},
   "source": [
    "Apply the function to the different subgroup analyzed"
   ]
  },
  {
   "cell_type": "code",
   "execution_count": null,
   "metadata": {},
   "outputs": [],
   "source": [
    "##################################################\n",
    "# Comorbidity analysis: ASD females vs ASD males #\n",
    "##################################################\n",
    "maleASD$Caco <- \"male\"\n",
    "femaleASD$Caco <- \"female\"\n",
    "\n",
    "maleVsFemale0to2 <- comorbidityAnalysis( cases = femaleASD, \n",
    "                                        controls  = maleASD, \n",
    "                                        minAge           = 0,\n",
    "                                        maxAge           = 2,\n",
    "                                        casesSymbol        = \"female\", \n",
    "                                        controlsSymbol     = \"male\", \n",
    "                                        minimunDiagnosis = 3)\n",
    "\n",
    "save( maleVsFemale0to2, file = \"ASD_maleVsFemaleASD0to2.RData\" )\n",
    "\n",
    "\n",
    "maleVsFemale3to5 <- comorbidityAnalysis( cases = femaleASD, \n",
    "                                        controls  = maleASD, \n",
    "                                        minAge           = 3,\n",
    "                                        maxAge           = 5,\n",
    "                                        casesSymbol        = \"female\", \n",
    "                                        controlsSymbol     = \"male\", \n",
    "                                        minimunDiagnosis = 3)\n",
    "\n",
    "save( maleVsFemale3to5, file = \"ASD_maleVsFemaleASD3to5.RData\" )\n",
    "\n",
    "maleVsFemale6to11 <- comorbidityAnalysis( cases = femaleASD, \n",
    "                                        controls  = maleASD, \n",
    "                                        minAge           = 6,\n",
    "                                        maxAge           = 11,\n",
    "                                        casesSymbol        = \"female\", \n",
    "                                        controlsSymbol     = \"male\", \n",
    "                                        minimunDiagnosis = 3)\n",
    "\n",
    "save( maleVsFemale6to11, file = \"ASD_maleVsFemaleASD6to11.RData\" )\n",
    "\n",
    "maleVsFemale12to18 <- comorbidityAnalysis( cases = femaleASD, \n",
    "                                        controls  = maleASD, \n",
    "                                        minAge           = 12,\n",
    "                                        maxAge           = 18,\n",
    "                                        casesSymbol        = \"female\", \n",
    "                                        controlsSymbol     = \"male\", \n",
    "                                        minimunDiagnosis = 3)\n",
    "\n",
    "save( maleVsFemale12to18, file = \"ASD_maleVsFemaleASD12to18.RData\" )"
   ]
  },
  {
   "cell_type": "code",
   "execution_count": null,
   "metadata": {},
   "outputs": [],
   "source": [
    "########################################################\n",
    "# Comorbidity analysis: ASD females vs Non-ASD females #\n",
    "########################################################\n",
    "femaleNonASD$Caco <- \"nonASD\"\n",
    "femaleASD$Caco <- \"ASD\"\n",
    "\n",
    "asdVSnonAS0to2 <- comorbidityAnalysis( cases = femaleASD, \n",
    "                                        controls  = femaleNonASD, \n",
    "                                        minAge           = 0,\n",
    "                                        maxAge           = 2,\n",
    "                                        casesSymbol        = \"ASD\", \n",
    "                                        controlsSymbol     = \"nonASD\", \n",
    "                                        minimunDiagnosis = 3)\n",
    "\n",
    "save( asdVSnonAS0to2, file = \"females_asdVSnonASD0to2.RData\" )\n",
    "\n",
    "asdVSnonAS3to5 <- comorbidityAnalysis( cases = femaleASD, \n",
    "                                        controls  = femaleNonASD, \n",
    "                                        minAge           = 3,\n",
    "                                        maxAge           = 5,\n",
    "                                        casesSymbol        = \"ASD\", \n",
    "                                        controlsSymbol     = \"nonASD\", \n",
    "                                        minimunDiagnosis = 3)\n",
    "\n",
    "save( asdVSnonAS3to5, file = \"females_asdVSnonASD3to5.RData\" )\n",
    "\n",
    "asdVSnonAS6to11 <- comorbidityAnalysis( cases = femaleASD, \n",
    "                                        controls  = femaleNonASD, \n",
    "                                        minAge           = 6,\n",
    "                                        maxAge           = 11,\n",
    "                                        casesSymbol        = \"ASD\", \n",
    "                                        controlsSymbol     = \"nonASD\", \n",
    "                                        minimunDiagnosis = 3)\n",
    "\n",
    "save( asdVSnonAS6to11, file = \"females_asdVSnonASD6to11.RData\" )\n",
    "\n",
    "asdVSnonAS12to18 <- comorbidityAnalysis( cases = femaleASD, \n",
    "                                        controls  = femaleNonASD, \n",
    "                                        minAge           = 12,\n",
    "                                        maxAge           = 18,\n",
    "                                        casesSymbol        = \"ASD\", \n",
    "                                        controlsSymbol     = \"nonASD\", \n",
    "                                        minimunDiagnosis = 3)\n",
    "\n",
    "save( asdVSnonAS12to18, file = \"females_asdVSnonASD12to18.RData\" )"
   ]
  },
  {
   "cell_type": "code",
   "execution_count": null,
   "metadata": {},
   "outputs": [],
   "source": [
    "##########################################################\n",
    "# Comorbidity analysis: Non-ASD females vs Non-ASD males #\n",
    "#########################################################\n",
    "femaleNonASD$Caco <- \"female\"\n",
    "maleNonASD$Caco <- \"male\"\n",
    "\n",
    "noASDmaleVsFemale0to2 <- comorbidityAnalysis( cases = femaleNonASD, \n",
    "                                        controls  = maleNonASD, \n",
    "                                        minAge           = 0,\n",
    "                                        maxAge           = 2,\n",
    "                                        casesSymbol        = \"female\", \n",
    "                                        controlsSymbol     = \"male\", \n",
    "                                        minimunDiagnosis = 3)\n",
    "\n",
    "save( noASDmaleVsFemale0to2, file = \"nonASD_maleVsFemaleASD0to2.RData\" )\n",
    "\n",
    "noASDmaleVsFemale3to5 <- comorbidityAnalysis( cases = femaleNonASD, \n",
    "                                        controls  = maleNonASD, \n",
    "                                        minAge           = 3,\n",
    "                                        maxAge           = 5,\n",
    "                                        casesSymbol        = \"female\", \n",
    "                                        controlsSymbol     = \"male\", \n",
    "                                        minimunDiagnosis = 3)\n",
    "\n",
    "save( noASDmaleVsFemale3to5, file = \"nonASD_maleVsFemaleASD3to5.RData\" )\n",
    "\n",
    "\n",
    "noASDmaleVsFemale6to11 <- comorbidityAnalysis( cases = femaleNonASD, \n",
    "                                        controls  = maleNonASD, \n",
    "                                        minAge           = 6,\n",
    "                                        maxAge           = 11,\n",
    "                                        casesSymbol        = \"female\", \n",
    "                                        controlsSymbol     = \"male\", \n",
    "                                        minimunDiagnosis = 3)\n",
    "\n",
    "save( noASDmaleVsFemale6to11, file = \"nonASD_maleVsFemaleASD6to11.RData\" )\n",
    "\n",
    "noASDmaleVsFemale12to18 <- comorbidityAnalysis( cases = femaleNonASD, \n",
    "                                        controls  = maleNonASD, \n",
    "                                        minAge           = 12,\n",
    "                                        maxAge           = 18,\n",
    "                                        casesSymbol        = \"female\", \n",
    "                                        controlsSymbol     = \"male\", \n",
    "                                        minimunDiagnosis = 3)\n",
    "\n",
    "save( noASDmaleVsFemale12to18, file = \"nonASD_maleVsFemaleASD12to18.RData\" )"
   ]
  }
 ],
 "metadata": {
  "kernelspec": {
   "display_name": "R",
   "language": "R",
   "name": "ir"
  },
  "language_info": {
   "codemirror_mode": "r",
   "file_extension": ".r",
   "mimetype": "text/x-r-source",
   "name": "R",
   "pygments_lexer": "r",
   "version": "3.3.1"
  }
 },
 "nbformat": 4,
 "nbformat_minor": 1
}
